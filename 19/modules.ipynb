{
 "cells": [
  {
   "cell_type": "markdown",
   "metadata": {},
   "source": [
    "Instructions:\n",
    "1. Create a base class called \"Shape\" with the following attributes:\n",
    "   - `color (string)`\n",
    "\n",
    "2. Create a derived class called \"Rectangle\" that inherits from the Shape class. Add the following attributes:\n",
    "   - `width (float)` \n",
    "   - `height (float)`\n",
    "\n",
    "3. Create a derived class called \"Circle\" that also inherits from the Shape class. Add the following attribute:\n",
    "   - radius (float)\n",
    "\n",
    "4. Implement the following methods in the Shape class:  \n",
    "   -`init` : Initializes the color of the shape.\n",
    "   - area: Returns the area of the shape. (Leave this method as an abstract method in the base class and implement it in the derived classes.)\n",
    "\n",
    "5. Implement the following method in the Rectangle class:\n",
    "   - area: Overrides the area method of the Shape class and calculates the area of the circle using the formula: area = π * radius^2. Return the calculated area. (You can use the math library for the value of π.)\n",
    "\n",
    "7. Create instances of the Rectangle and Circle classes and demonstrate the usage of the overridden methods."
   ]
  },
  {
   "cell_type": "code",
   "execution_count": 2,
   "metadata": {},
   "outputs": [
    {
     "name": "stdout",
     "output_type": "stream",
     "text": [
      "4.140000000000001\n"
     ]
    }
   ],
   "source": [
    "from math_module import PI"
   ]
  }
 ],
 "metadata": {
  "kernelspec": {
   "display_name": "testpy",
   "language": "python",
   "name": "python3"
  },
  "language_info": {
   "codemirror_mode": {
    "name": "ipython",
    "version": 3
   },
   "file_extension": ".py",
   "mimetype": "text/x-python",
   "name": "python",
   "nbconvert_exporter": "python",
   "pygments_lexer": "ipython3",
   "version": "3.10.8"
  },
  "orig_nbformat": 4
 },
 "nbformat": 4,
 "nbformat_minor": 2
}
