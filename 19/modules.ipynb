{
 "cells": [
  {
   "cell_type": "markdown",
   "metadata": {},
   "source": [
    "Instructions:\n",
    "1. Create a base class called \"Shape\" with the following attributes:\n",
    "   - `color (string)`\n",
    "\n",
    "2. Create a derived class called \"Rectangle\" that inherits from the Shape class. Add the following attributes:\n",
    "   - `width (float)` \n",
    "   - `height (float)`\n",
    "\n",
    "3. Create a derived class called \"Circle\" that also inherits from the Shape class. Add the following attribute:\n",
    "   - radius (float)\n",
    "\n",
    "4. Implement the following methods in the Shape class:  \n",
    "   - init : Initializes the color of the shape.\n",
    "   - area: Returns the area of the shape. (Leave this method as an abstract method in the base class and implement it in the derived classes.)\n",
    "\n",
    "5. Implement the following method in the Rectangle class:\n",
    "   - area: Overrides the area method of the Shape class and calculates the area of the circle using the formula: area = π * radius^2. Return the calculated area. (You can use the math library for the value of π.)\n",
    "\n",
    "7. Create instances of the Rectangle and Circle classes and demonstrate the usage of the overridden methods."
   ]
  },
  {
   "cell_type": "code",
   "execution_count": 4,
   "metadata": {},
   "outputs": [],
   "source": [
    "class Shape():\n",
    "    def __init__(self, color):\n",
    "        self.color = color\n",
    "\n",
    "    def area(self):\n",
    "        pass"
   ]
  },
  {
   "cell_type": "code",
   "execution_count": 7,
   "metadata": {},
   "outputs": [
    {
     "name": "stdout",
     "output_type": "stream",
     "text": [
      "6\n",
      "None\n"
     ]
    }
   ],
   "source": [
    "class Rectangle(Shape):\n",
    "    def __init__(self, color, width, height):\n",
    "        super().__init__(color)\n",
    "        self.width = width\n",
    "        self.height = height\n",
    "    \n",
    "    def area(self):\n",
    "        return self.width * self.height\n",
    "\n",
    "rectangle_1 = Rectangle(\"Red\", 3, 2)\n",
    "print(rectangle_1.area())\n",
    "shape_1 = Shape(\"Grey\")\n",
    "print(shape_1.area())"
   ]
  },
  {
   "cell_type": "code",
   "execution_count": 9,
   "metadata": {},
   "outputs": [
    {
     "data": {
      "text/plain": [
       "78.53981633974483"
      ]
     },
     "execution_count": 9,
     "metadata": {},
     "output_type": "execute_result"
    }
   ],
   "source": [
    "import math\n",
    "\n",
    "class Circle(Shape):\n",
    "    def __init__(self, color, radius):\n",
    "        super().__init__(color)\n",
    "        self.radius = radius\n",
    "        \n",
    "    def area(self):\n",
    "        return math.pi * self.radius ** 2\n",
    "    \n",
    "Circle_1 = Circle(\"Red\", 5) \n",
    "Circle_1.area()"
   ]
  }
 ],
 "metadata": {
  "kernelspec": {
   "display_name": "testpy",
   "language": "python",
   "name": "python3"
  },
  "language_info": {
   "codemirror_mode": {
    "name": "ipython",
    "version": 3
   },
   "file_extension": ".py",
   "mimetype": "text/x-python",
   "name": "python",
   "nbconvert_exporter": "python",
   "pygments_lexer": "ipython3",
   "version": "3.10.8"
  },
  "orig_nbformat": 4
 },
 "nbformat": 4,
 "nbformat_minor": 2
}
