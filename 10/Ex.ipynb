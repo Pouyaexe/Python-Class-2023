{
 "cells": [
  {
   "attachments": {},
   "cell_type": "markdown",
   "metadata": {},
   "source": [
    "Write a Python class called Person with attributes name and age. The class should have a method called greet that prints a greeting message that includes the person's name.\n",
    "\n",
    "Example input/output:\n",
    "```\n",
    "person = Person('Alice', 28)\n",
    "person.greet()\n",
    ">>> Hello, my name is Alice!\n",
    "```"
   ]
  },
  {
   "cell_type": "code",
   "execution_count": 3,
   "metadata": {},
   "outputs": [
    {
     "name": "stdout",
     "output_type": "stream",
     "text": [
      "Hello, my name is Jafar I'm 25 yo\n"
     ]
    }
   ],
   "source": [
    "age, name = 25, \"Jafar\"\n",
    "print(f\"Hello, my name is {name} I'm {age} yo\")"
   ]
  },
  {
   "cell_type": "code",
   "execution_count": 7,
   "metadata": {},
   "outputs": [],
   "source": [
    "class Person(): #قالب\n",
    "    def __init__(self, name, age) -> None:\n",
    "        self.name = name \n",
    "        self.age = age \n",
    "    \n",
    "    def greet(self,mention_age:bin=False):\n",
    "        if mention_age:\n",
    "            print(f\"Hello, my name is {self.name} I'm {self.age} yo\")\n",
    "        else:\n",
    "            print(f\"Hello, my name is {self.name}\")\n",
    "    "
   ]
  },
  {
   "cell_type": "code",
   "execution_count": 10,
   "metadata": {},
   "outputs": [
    {
     "name": "stdout",
     "output_type": "stream",
     "text": [
      "Hello, my name is Alice I'm 28 yo\n"
     ]
    }
   ],
   "source": [
    "person_1 = Person('Alice', 28) \n",
    "person_1.greet(True)"
   ]
  },
  {
   "attachments": {},
   "cell_type": "markdown",
   "metadata": {},
   "source": [
    "Write a Python class called Rectangle with attributes width and height. The class should have methods that calculate the area and perimeter of the rectangle. Additionally, implement a method that returns True if the rectangle is a square (i.e. width and height are equal), and False otherwise.\n",
    "\n",
    "Example input/output:\n",
    "```\n",
    "rectangle = Rectangle(5, 7)\n",
    "print(rectangle.area())\n",
    ">>> 35\n",
    "\n",
    "print(rectangle.perimeter())\n",
    ">>> 24\n",
    "\n",
    "print(rectangle.is_square())\n",
    ">>> False\n",
    "\n",
    "square = Rectangle(6, 6)\n",
    "print(square.is_square())\n",
    ">>> True\n",
    "```"
   ]
  },
  {
   "cell_type": "code",
   "execution_count": 1,
   "metadata": {},
   "outputs": [],
   "source": [
    "class Rectangle: #قالب\n",
    "    def __init__(self, width, height):\n",
    "        self.width = width\n",
    "        self.height = height\n",
    "    \n",
    "    def area(self):\n",
    "        return self.width * self.height\n",
    "    \n",
    "    def perimeter(self):\n",
    "        return 2 * (self.width + self.height)\n",
    "    \n",
    "    def is_square(self):\n",
    "        return self.width == self.height\n"
   ]
  },
  {
   "cell_type": "code",
   "execution_count": 2,
   "metadata": {},
   "outputs": [
    {
     "name": "stdout",
     "output_type": "stream",
     "text": [
      "35\n",
      "24\n",
      "False\n",
      "True\n"
     ]
    }
   ],
   "source": [
    "rectangle = Rectangle(5, 7)\n",
    "\n",
    "print(rectangle.area())        # Output: 35\n",
    "print(rectangle.perimeter())   # Output: 24\n",
    "print(rectangle.is_square())   # Output: False\n",
    "\n",
    "square = Rectangle(6, 6)\n",
    "print(square.is_square())      # Output: True\n"
   ]
  },
  {
   "cell_type": "code",
   "execution_count": 4,
   "metadata": {},
   "outputs": [],
   "source": []
  },
  {
   "attachments": {},
   "cell_type": "markdown",
   "metadata": {},
   "source": [
    "Write a Python class called BankAccount with the following attributes and methods:\n",
    "\n",
    "**Attributes**:  \n",
    "*balance*: a float representing the current balance of the account  \n",
    "*account_number*: an integer representing the account number  \n",
    "*interest_rate*: a float representing the annual interest rate for the account  \n",
    "\n",
    "**Methods**:  \n",
    "*deposit(amount)*: add the given amount to the account balance  \n",
    "*withdraw(amount)*: subtract the given amount from the account balance (if the balance is insufficient, display an error message)  \n",
    "*add_interest()*: add interest to the account balance based on the interest rate  \n",
    "*display()*: display the current balance and account number  \n",
    "\n",
    "**Example input/output**\n",
    "```\n",
    "account1 = BankAccount(1000, 1234, 0.05)\n",
    "account1.display()\n",
    ">>> Account number: 1234\n",
    ">>> Current balance: $1000.00\n",
    "\n",
    "account1.deposit(500)\n",
    "account1.display()\n",
    ">>> Account number: 1234\n",
    ">>> Current balance: $1500.00\n",
    "\n",
    "account1.withdraw(2000)\n",
    ">>> Error: insufficient funds\n",
    "\n",
    "account1.withdraw(500)\n",
    "account1.display()\n",
    ">>> Account number: 1234\n",
    ">>> Current balance:  $1000.00\n",
    "\n",
    "account1.add_interest()\n",
    "account1.display()\n",
    ">>> Account number: 1234\n",
    ">>> Current balance: $1050.00\n",
    "```"
   ]
  },
  {
   "cell_type": "code",
   "execution_count": 9,
   "metadata": {},
   "outputs": [],
   "source": [
    "class BankAaccount():\n",
    "    def __init__(self, balance, account_number, intrest_rate):\n",
    "        self.balance = balance\n",
    "        self.account_number = account_number\n",
    "        self.intrest_rate = intrest_rate\n",
    "    \n",
    "    def deposit(self, amount):\n",
    "        # self.balance = self.balance + amount\n",
    "        self.balance += amount\n",
    "\n",
    "    def withdraw(self, amount):\n",
    "        \"\"\"subtract the given amount from the account balance \n",
    "            (if the balance is insufficient, display an error message)\n",
    "        \"\"\"\n",
    "        if self.balance >= amount:\n",
    "            self.balance -= amount\n",
    "        else:\n",
    "            print(\"Insufficient funds\")\n",
    "    \n",
    "    def add_intrest(self):\n",
    "        \"\"\"add interest to the account balance based on the interest rate\n",
    "        \"\"\"\n",
    "        self.balance += self.intrest_rate * self.balance\n",
    "    \n",
    "    def display(self):\n",
    "        \"\"\"display the current balance and account number \n",
    "        \"\"\"\n",
    "        print(f\"Account number: {self.account_number}\")      \n",
    "        print(f\"Current balance: ${self.balance}\")"
   ]
  },
  {
   "cell_type": "code",
   "execution_count": 10,
   "metadata": {},
   "outputs": [],
   "source": [
    "account1 = BankAaccount(balance=1000, account_number=123456789, intrest_rate=0.03)"
   ]
  },
  {
   "cell_type": "code",
   "execution_count": 91,
   "metadata": {},
   "outputs": [
    {
     "name": "stdout",
     "output_type": "stream",
     "text": [
      "Account number: 123456789\n",
      "Current balance: $500\n"
     ]
    }
   ],
   "source": [
    "print(account1.deposit(100))"
   ]
  },
  {
   "cell_type": "code",
   "execution_count": 90,
   "metadata": {},
   "outputs": [
    {
     "name": "stdout",
     "output_type": "stream",
     "text": [
      "None\n"
     ]
    }
   ],
   "source": [
    "print(account1.withdraw(500))"
   ]
  },
  {
   "cell_type": "code",
   "execution_count": 11,
   "metadata": {},
   "outputs": [
    {
     "name": "stdout",
     "output_type": "stream",
     "text": [
      "Account number: 123456789\n",
      "Account number:  123456789\n",
      "Account number: 123456789\n",
      "Current balance: $1000\n"
     ]
    }
   ],
   "source": [
    "account1.display()"
   ]
  },
  {
   "cell_type": "code",
   "execution_count": 8,
   "metadata": {},
   "outputs": [
    {
     "name": "stdout",
     "output_type": "stream",
     "text": [
      "Account number: 123456789\n",
      "Current balance: $1194.052296529\n"
     ]
    }
   ],
   "source": [
    "account1.add_intrest()"
   ]
  },
  {
   "cell_type": "code",
   "execution_count": null,
   "metadata": {},
   "outputs": [],
   "source": [
    "account1.display()"
   ]
  }
 ],
 "metadata": {
  "kernelspec": {
   "display_name": "testpy",
   "language": "python",
   "name": "python3"
  },
  "language_info": {
   "codemirror_mode": {
    "name": "ipython",
    "version": 3
   },
   "file_extension": ".py",
   "mimetype": "text/x-python",
   "name": "python",
   "nbconvert_exporter": "python",
   "pygments_lexer": "ipython3",
   "version": "3.10.8"
  },
  "orig_nbformat": 4
 },
 "nbformat": 4,
 "nbformat_minor": 2
}
