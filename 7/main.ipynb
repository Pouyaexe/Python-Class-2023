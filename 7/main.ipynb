{
 "cells": [
  {
   "attachments": {},
   "cell_type": "markdown",
   "metadata": {},
   "source": [
    "** While loop "
   ]
  },
  {
   "cell_type": "code",
   "execution_count": 10,
   "metadata": {},
   "outputs": [
    {
     "name": "stdout",
     "output_type": "stream",
     "text": [
      "1\n",
      "2\n",
      "4\n"
     ]
    }
   ],
   "source": [
    "i = 1\n",
    "while i < 6: #True i=1, i=2\n",
    "    print(i)\n",
    "    i += 1 # i = i + 1"
   ]
  },
  {
   "cell_type": "code",
   "execution_count": 9,
   "metadata": {},
   "outputs": [
    {
     "name": "stdout",
     "output_type": "stream",
     "text": [
      "1\n",
      "3\n",
      "5\n"
     ]
    }
   ],
   "source": [
    "for j in range(1,6):\n",
    "    print(j)                     \n",
    "    "
   ]
  },
  {
   "attachments": {},
   "cell_type": "markdown",
   "metadata": {},
   "source": [
    "Default Value"
   ]
  },
  {
   "cell_type": "code",
   "execution_count": 21,
   "metadata": {},
   "outputs": [
    {
     "name": "stdout",
     "output_type": "stream",
     "text": [
      "Hey!\n",
      "None\n"
     ]
    }
   ],
   "source": [
    "def no_input():\n",
    "    return \"Hey!\"\n",
    "print(no_input())\n",
    "\n",
    "def no_return():\n",
    "    a=2+4\n",
    "print(no_return())\n",
    "    \n",
    "\n",
    "\n",
    "\n"
   ]
  },
  {
   "cell_type": "code",
   "execution_count": 35,
   "metadata": {},
   "outputs": [
    {
     "name": "stdout",
     "output_type": "stream",
     "text": [
      "Hello Dorsa  Joon ⭐!\n",
      "Hey!\n",
      "Hello Sheida  Joon ⭐!\n",
      "Sheida\n"
     ]
    }
   ],
   "source": [
    "def input_and_output(name:str):\n",
    "    print(\"Hello\", name, \" Joon ⭐!\")\n",
    "    return name\n",
    "\n",
    "input_and_output(\"Dorsa\") # Still returns the name var but we don't use it!\n",
    "\n",
    "print(input_and_output(\"Sheida\"))"
   ]
  },
  {
   "cell_type": "code",
   "execution_count": 44,
   "metadata": {},
   "outputs": [
    {
     "name": "stdout",
     "output_type": "stream",
     "text": [
      "You are allowed! age:  24\n",
      "You are not allowed! age:  8\n"
     ]
    }
   ],
   "source": [
    "\n",
    "def age_allowed(age:int=8):\n",
    "    if age>=18:\n",
    "        print(\"You are allowed! age: \", age)\n",
    "    else:\n",
    "        print(\"You are not allowed! age: \", age)\n",
    "\n",
    "age_allowed(24)\n",
    "age_allowed()"
   ]
  },
  {
   "cell_type": "code",
   "execution_count": null,
   "metadata": {},
   "outputs": [],
   "source": []
  },
  {
   "attachments": {},
   "cell_type": "markdown",
   "metadata": {},
   "source": [
    "Classes and Objects"
   ]
  },
  {
   "cell_type": "code",
   "execution_count": null,
   "metadata": {},
   "outputs": [],
   "source": []
  }
 ],
 "metadata": {
  "kernelspec": {
   "display_name": "testpy",
   "language": "python",
   "name": "python3"
  },
  "language_info": {
   "codemirror_mode": {
    "name": "ipython",
    "version": 3
   },
   "file_extension": ".py",
   "mimetype": "text/x-python",
   "name": "python",
   "nbconvert_exporter": "python",
   "pygments_lexer": "ipython3",
   "version": "3.10.8"
  },
  "orig_nbformat": 4
 },
 "nbformat": 4,
 "nbformat_minor": 2
}
