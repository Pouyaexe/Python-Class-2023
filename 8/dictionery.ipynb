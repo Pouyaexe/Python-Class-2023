{
 "cells": [
  {
   "cell_type": "code",
   "execution_count": 12,
   "metadata": {},
   "outputs": [
    {
     "name": "stdout",
     "output_type": "stream",
     "text": [
      "John\n",
      "John\n",
      "{'name': 'John', 'lastname': 'Doe', 'age': 30, 'skincolor': 'white'}\n"
     ]
    }
   ],
   "source": [
    "a = 20\n",
    "a = 19.5\n",
    "string = \"Hello\"\n",
    "\n",
    "my_list = [\"John\", \"Doe\", \"programmer\"]\n",
    " #        [0, 1 , 2]\n",
    " \n",
    "my_dictionary = {\"name\": \"John\",\n",
    "                 \"lastname\": \"Doe\",\n",
    "                 \"age\": 30}\n",
    "my_dictionary[\"skincolor\"] = \"white\"\n",
    "    #            key:vlaue\n",
    "# print my_dictionary[\"name\"]\n",
    "print(my_list[0])\n",
    "print(my_dictionary[\"name\"])\n",
    "print(my_dictionary)"
   ]
  }
 ],
 "metadata": {
  "kernelspec": {
   "display_name": "testpy",
   "language": "python",
   "name": "python3"
  },
  "language_info": {
   "codemirror_mode": {
    "name": "ipython",
    "version": 3
   },
   "file_extension": ".py",
   "mimetype": "text/x-python",
   "name": "python",
   "nbconvert_exporter": "python",
   "pygments_lexer": "ipython3",
   "version": "3.10.8"
  },
  "orig_nbformat": 4
 },
 "nbformat": 4,
 "nbformat_minor": 2
}
