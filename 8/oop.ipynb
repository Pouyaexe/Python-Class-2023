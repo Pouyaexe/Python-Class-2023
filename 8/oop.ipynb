{
 "cells": [
  {
   "attachments": {},
   "cell_type": "markdown",
   "metadata": {},
   "source": [
    "Object Oriented Programming (OOP) is a programming paradigm that uses objects and their interactions to design applications and computer programs. There are some basic programming concepts in OOP:\n",
    "1. **Abstraction**: Abstraction is the concept of hiding the internal details and describing things in simple terms. For example, a method that adds two integers. We don't need to know how it internally does the addition, we just need to know that it adds two integers. This is called abstraction. In Python, we use classes to create objects, which can be abstracted.\n",
    "2. **Encapsulation**: Encapsulation is the concept of binding data and methods that work on that data within one unit. This keeps the data safe from outside interface and misuse. In Python, we denote private attributes using underscore as the prefix i.e single _ or double __.\n",
    "3. **Inheritance**: Inheritance is the concept of using properties of one class into another class. It is used to represent real-world relationships. For example, a child inherits traits from his/her parents. Similarly, in OOP, we can create a class that can inherit properties from another class. The class that inherits properties is called a child class or a subclass. The class from which the properties are inherited is called parent class or a superclass.\n",
    "4. **Polymorphism**: Polymorphism is the concept of using common operation in different ways for different data input. For example, the + operator will, perform arithmetic addition on two numbers, merge two lists, or concatenate two strings."
   ]
  },
  {
   "cell_type": "code",
   "execution_count": null,
   "metadata": {},
   "outputs": [],
   "source": [
    "\n",
    "name_of_students = [\"John Doe\", \"Chris Evans\", \"Mark Williams\", \"Harry Potter\"]\n",
    "age_of_students = [15, 17, 19, 20]\n",
    "major_of_students = [\"Computer Science\", \"Computer Science\", \"Computer Science\", \"Computer Science\"]\n"
   ]
  },
  {
   "cell_type": "code",
   "execution_count": 26,
   "metadata": {},
   "outputs": [],
   "source": [
    "class dog():\n",
    "    def __init__(self, name, age):\n",
    "        self.name = name\n",
    "        self.age = age\n",
    "    def bark(self):\n",
    "        print(\"woof woof! 🐶\")\n",
    "    def info(self):\n",
    "        print(self.name + \" is \" + str(self.age) + \" years old\")\n",
    "\n",
    "class cat:\n",
    "    def __init__(self, name, age,gender):\n",
    "        self.name = name\n",
    "        self.age = age\n",
    "        self.gender = gender\n",
    "    def meow(self):\n",
    "        print(self.name,\": meow meow!  ~^~\")\n",
    "    "
   ]
  },
  {
   "cell_type": "code",
   "execution_count": 27,
   "metadata": {},
   "outputs": [
    {
     "name": "stdout",
     "output_type": "stream",
     "text": [
      "2\n",
      "Hoshang\n"
     ]
    }
   ],
   "source": [
    "kitten_1 = cat(name=\"Marshal\", age=2,  gender=\"male\")\n",
    "kitten_Hoshang = cat(name=\"Hoshang\", age=1,  gender=\"male\")\n",
    "print(kitten_1.age)\n",
    "print(kitten_Hoshang.name)"
   ]
  },
  {
   "cell_type": "code",
   "execution_count": 25,
   "metadata": {},
   "outputs": [
    {
     "name": "stdout",
     "output_type": "stream",
     "text": [
      "Marshal : meow meow!  ~^~\n",
      "Hoshang : meow meow!  ~^~\n"
     ]
    }
   ],
   "source": [
    "kitten_1.meow()\n",
    "kitten_Hoshang.meow()"
   ]
  },
  {
   "cell_type": "code",
   "execution_count": 28,
   "metadata": {},
   "outputs": [
    {
     "name": "stdout",
     "output_type": "stream",
     "text": [
      "woof woof! 🐶\n",
      "Fido is 3 years old\n"
     ]
    }
   ],
   "source": [
    "dog_1 = dog(\"Fido\", 3)\n",
    "dog_1.bark()\n",
    "dog_1.info()"
   ]
  },
  {
   "cell_type": "code",
   "execution_count": 29,
   "metadata": {},
   "outputs": [],
   "source": [
    "# Student Example: \n",
    "class Student:\n",
    "    def __init__(self, name, age, major, gpa):\n",
    "        self.name = name\n",
    "        self.age = age\n",
    "        self.major = major\n",
    "        self.gpa = gpa\n",
    "    def on_honor_roll(self):# honor roll is a program that recognizes students who have achieved academic excellence\n",
    "        if self.gpa >= 3.5:\n",
    "            return True\n",
    "        else:\n",
    "            return False\n",
    "    def info(self):\n",
    "        print(self.name + \" is \" + str(self.age) + \" years old and is majoring in \" + self.major + \" with a GPA of \" + str(self.gpa))"
   ]
  },
  {
   "cell_type": "code",
   "execution_count": 30,
   "metadata": {},
   "outputs": [],
   "source": [
    "student_1 = Student(name=\"Dosra\", age=23, major=\"Computer Science\", gpa=4)"
   ]
  },
  {
   "cell_type": "code",
   "execution_count": 33,
   "metadata": {},
   "outputs": [
    {
     "name": "stdout",
     "output_type": "stream",
     "text": [
      "Dosra is 23 years old and is majoring in Computer Science with a GPA of 4\n"
     ]
    }
   ],
   "source": [
    "student_1.info()"
   ]
  }
 ],
 "metadata": {
  "kernelspec": {
   "display_name": "testpy",
   "language": "python",
   "name": "python3"
  },
  "language_info": {
   "codemirror_mode": {
    "name": "ipython",
    "version": 3
   },
   "file_extension": ".py",
   "mimetype": "text/x-python",
   "name": "python",
   "nbconvert_exporter": "python",
   "pygments_lexer": "ipython3",
   "version": "3.10.8"
  },
  "orig_nbformat": 4
 },
 "nbformat": 4,
 "nbformat_minor": 2
}
