{
 "cells": [
  {
   "cell_type": "code",
   "execution_count": null,
   "metadata": {},
   "outputs": [],
   "source": []
  },
  {
   "cell_type": "code",
   "execution_count": 17,
   "metadata": {},
   "outputs": [
    {
     "name": "stdout",
     "output_type": "stream",
     "text": [
      "John\n",
      "Dorsa\n",
      "{'name': 'Dorsa', 'lastname': 'Doe', 'age': 30, 50: 'Reza', 'skincolor': 'white'}\n"
     ]
    }
   ],
   "source": [
    "a = 20\n",
    "a = 19.5\n",
    "string = \"Hello\"\n",
    "\n",
    "my_list = [\"John\", \"Doe\", \"programmer\"]\n",
    "#        [0,         1 , 2]\n",
    "\n",
    "my_dictionary = {\"name\": \"John\",\"name\": \"Dorsa\", \"lastname\": \"Doe\", \"age\": 30, 50:\"Reza\"}\n",
    "my_dictionary[\"skincolor\"] = \"white\"\n",
    "#            key:vlaue\n",
    "# print my_dictionary[\"name\"]\n",
    "print(my_list[0])\n",
    "print(my_dictionary[\"name\"])\n",
    "print(my_dictionary)"
   ]
  },
  {
   "cell_type": "code",
   "execution_count": 15,
   "metadata": {},
   "outputs": [
    {
     "name": "stdout",
     "output_type": "stream",
     "text": [
      "dict_keys([55, 'lastname', 'age', 'skincolor'])\n"
     ]
    }
   ],
   "source": [
    "print(my_dictionary.keys()) "
   ]
  }
 ],
 "metadata": {
  "kernelspec": {
   "display_name": "testpy",
   "language": "python",
   "name": "python3"
  },
  "language_info": {
   "codemirror_mode": {
    "name": "ipython",
    "version": 3
   },
   "file_extension": ".py",
   "mimetype": "text/x-python",
   "name": "python",
   "nbconvert_exporter": "python",
   "pygments_lexer": "ipython3",
   "version": "3.10.8"
  },
  "orig_nbformat": 4
 },
 "nbformat": 4,
 "nbformat_minor": 2
}
