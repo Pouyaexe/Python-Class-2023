{
 "cells": [
  {
   "cell_type": "code",
   "execution_count": 4,
   "metadata": {},
   "outputs": [],
   "source": [
    "class Shape:\n",
    "    def __init__(self, name, color) -> None:\n",
    "        self.name = name\n",
    "        self.color = color\n",
    "    \n",
    "    def area(self):\n",
    "        pass\n",
    "    \n",
    "    def perimeter(self):\n",
    "        pass"
   ]
  },
  {
   "cell_type": "code",
   "execution_count": 16,
   "metadata": {},
   "outputs": [],
   "source": [
    "class Triangle(Shape):\n",
    "    def __init__(self, name, color, side1, side2, side3) -> None:\n",
    "        super().__init__(name, color)\n",
    "        self.side1 = side1\n",
    "        self.side2 = side2\n",
    "        self.side3 = side3\n",
    "    \n",
    "    def perimeter(self):\n",
    "        return self.side1 + self.side2 + self.side3  \n",
    "    \n",
    "    def area(self):\n",
    "        s = self.perimeter() / 2\n",
    "        return (s*(s-self.side1)*(s-self.side2)*(s-self.side3)) **0.5\n",
    "    \n",
    "    # def area(self):\n",
    "    #     s = (self.side1 + self.side2 + self.side3)/ 2\n",
    "    #     return (s*(s-self.side1)*(s-self.side2)*(s-self.side3)) **0.5"
   ]
  },
  {
   "cell_type": "code",
   "execution_count": 17,
   "metadata": {},
   "outputs": [],
   "source": [
    "import math\n",
    "\n",
    "class EquilateralTriangle(Triangle):\n",
    "    def __init__(self, name, color, side):\n",
    "        super().__init__(name, color, side, side, side)   \n",
    "    \n",
    "    \n",
    "    def area(self):\n",
    "        return (math.sqrt(3)/4) * self.side1 ** 2"
   ]
  },
  {
   "cell_type": "code",
   "execution_count": 33,
   "metadata": {},
   "outputs": [],
   "source": [
    "class EquilateralTriangle(Triangle):\n",
    "    def __init__(self, name, color, side):\n",
    "        super().__init__(name, color, side, side ,side) \n",
    "        self.side = side    \n",
    "    \n",
    "    def perimeter(self):\n",
    "        return self.side * 3\n",
    "    \n",
    "    def area(self):\n",
    "        return (math.sqrt(3)/4) * self.side ** 2\n",
    "    "
   ]
  },
  {
   "cell_type": "code",
   "execution_count": 30,
   "metadata": {},
   "outputs": [],
   "source": [
    "Equ_1 = EquilateralTriangle(\"Equi\", \"Red\", 20.0)"
   ]
  },
  {
   "cell_type": "code",
   "execution_count": 31,
   "metadata": {},
   "outputs": [
    {
     "data": {
      "text/plain": [
       "173.20508075688772"
      ]
     },
     "execution_count": 31,
     "metadata": {},
     "output_type": "execute_result"
    }
   ],
   "source": [
    "Equ_1.area()"
   ]
  },
  {
   "cell_type": "code",
   "execution_count": 32,
   "metadata": {},
   "outputs": [
    {
     "data": {
      "text/plain": [
       "60.0"
      ]
     },
     "execution_count": 32,
     "metadata": {},
     "output_type": "execute_result"
    }
   ],
   "source": [
    "Equ_1.perimeter()"
   ]
  },
  {
   "cell_type": "code",
   "execution_count": 19,
   "metadata": {},
   "outputs": [
    {
     "data": {
      "text/plain": [
       "'Red'"
      ]
     },
     "execution_count": 19,
     "metadata": {},
     "output_type": "execute_result"
    }
   ],
   "source": [
    "Equ_1.print_color()"
   ]
  },
  {
   "cell_type": "code",
   "execution_count": null,
   "metadata": {},
   "outputs": [],
   "source": [
    "class IsoscelesTriangle(Triangle):\n",
    "    def __init__(self, name, color, base, side) -> None:\n",
    "        super().__init__(name, color, base, side, side)\n",
    "        self.base = base\n",
    "            \n",
    "    def area(self):\n",
    "        height = math.sqrt(self.side1 ** 2 - (0.25 * self.base ** 2))\n",
    "        return 0.5 * self.base * height"
   ]
  },
  {
   "cell_type": "code",
   "execution_count": 38,
   "metadata": {},
   "outputs": [],
   "source": [
    "class IsoscelesTriangle(Triangle):\n",
    "    def __init__(self, name, color, base, side) -> None:\n",
    "        super().__init__(name, color, base, side, side)\n",
    "        self.base = base\n",
    "        self.side = side\n",
    "\n",
    "    def perimeter(self):\n",
    "        return self.base + (self.side * 2)\n",
    "\n",
    "    def area(self):\n",
    "        height = math.sqrt(self.side**2 - (0.25 * self.base**2))\n",
    "        return 0.5 * self.base * height"
   ]
  },
  {
   "cell_type": "code",
   "execution_count": 39,
   "metadata": {},
   "outputs": [
    {
     "name": "stdout",
     "output_type": "stream",
     "text": [
      "Isosceles\n",
      "Purple\n",
      "7.806247497997997\n",
      "13.0\n",
      "Equilateral\n",
      "Yellow\n",
      "15.588457268119894\n",
      "18.0\n"
     ]
    }
   ],
   "source": [
    "isosceles_triangle = IsoscelesTriangle(\"Isosceles\", \"Purple\", 5.0, 4.0)\n",
    "equilateral_triangle = EquilateralTriangle(\"Equilateral\", \"Yellow\", 6.0)\n",
    "\n",
    "print(isosceles_triangle.name)\n",
    "print(isosceles_triangle.color)\n",
    "print(isosceles_triangle.area())  # Output: 8.0\n",
    "print(isosceles_triangle.perimeter())  # Output: 13.0\n",
    "\n",
    "print(equilateral_triangle.name)\n",
    "print(equilateral_triangle.color)\n",
    "print(equilateral_triangle.area())  # Output: 15.58845\n",
    "print(equilateral_triangle.perimeter())  # Output: 18.0\n"
   ]
  },
  {
   "cell_type": "code",
   "execution_count": null,
   "metadata": {},
   "outputs": [],
   "source": []
  }
 ],
 "metadata": {
  "kernelspec": {
   "display_name": "testpy",
   "language": "python",
   "name": "python3"
  },
  "language_info": {
   "codemirror_mode": {
    "name": "ipython",
    "version": 3
   },
   "file_extension": ".py",
   "mimetype": "text/x-python",
   "name": "python",
   "nbconvert_exporter": "python",
   "pygments_lexer": "ipython3",
   "version": "3.10.8"
  },
  "orig_nbformat": 4
 },
 "nbformat": 4,
 "nbformat_minor": 2
}
