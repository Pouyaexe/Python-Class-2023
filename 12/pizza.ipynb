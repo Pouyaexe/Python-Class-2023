{
 "cells": [
  {
   "attachments": {},
   "cell_type": "markdown",
   "metadata": {},
   "source": [
    "Pizza class\n",
    "Create a Pizza class that represents a pizza. The Pizza class should have the following attributes:\n",
    "\n",
    "dough: a string representing the type of dough used for the pizza (e.g. \"thin crust\", \"deep dish\")\n",
    "toppings: a list of strings representing the toppings on the pizza\n",
    "The Pizza class should have the following methods:\n",
    "\n",
    "add_topping(topping): add a new topping to the pizza\n",
    "remove_topping(topping): remove a topping from the pizza (if the topping is not on the pizza, display an error message)\n",
    "display_toppings(): display a list of the toppings on the pizza\n",
    "\n",
    "\n",
    "Example usage:\n",
    "\n",
    "# create a pizza with thin crust dough\n",
    "pizza = Pizza(\"thin crust\")\n",
    "\n",
    "# add some toppings\n",
    "pizza.add_topping(\"pepperoni\")\n",
    "pizza.add_topping(\"mushrooms\")\n",
    "pizza.add_topping(\"olives\")\n",
    "\n",
    "# display the toppings\n",
    "pizza.display_toppings()\n",
    "# output: ['pepperoni', 'mushrooms', 'olives']\n",
    "\n",
    "# try to add a duplicate topping\n",
    "pizza.add_topping(\"mushrooms\")\n",
    "# output: Error: topping already on pizza\n",
    "\n",
    "# remove a topping\n",
    "pizza.remove_topping(\"olives\")\n",
    "\n",
    "# display the toppings again\n",
    "pizza.display_toppings()\n",
    "# output: ['pepperoni', 'mushrooms']\n",
    "\n",
    "# try to change the dough to deep dish (should fail)\n",
    "pizza.dough = \"deep dish\"\n",
    "# output: Error: dough type already set"
   ]
  },
  {
   "cell_type": "code",
   "execution_count": 10,
   "metadata": {},
   "outputs": [],
   "source": [
    "class Pizza:\n",
    "    def __init__(self, dough):\n",
    "        self.dough = dough\n",
    "        self.toppings = []\n",
    "\n",
    "    def add_topping(self, topping):\n",
    "        if topping in self.toppings:\n",
    "            print(f\"{topping.title()} is already in the pizza\")\n",
    "        else:\n",
    "            self.toppings.append(topping)\n",
    "\n",
    "    def remove_topping(self, topping):\n",
    "        if topping not in self.toppings:\n",
    "            print(\"Cannot remove unexisting topping\")\n",
    "        else:\n",
    "            self.toppings.remove(topping)\n",
    "\n",
    "    def display_toppings(self):\n",
    "        print(self.toppings)"
   ]
  },
  {
   "cell_type": "code",
   "execution_count": 22,
   "metadata": {},
   "outputs": [
    {
     "name": "stdout",
     "output_type": "stream",
     "text": [
      "Extra Cheese is already in the pizza\n",
      "['mushrooms', 'olives', 'extra cheese']\n"
     ]
    }
   ],
   "source": [
    "pizza_1 = Pizza(dough=\"thin crust\")\n",
    "\n",
    "pizza_1.add_topping(\"mushrooms\")\n",
    "pizza_1.add_topping(\"olives\")\n",
    "pizza_1.add_topping(\"extra cheese\")\n",
    "pizza_1.add_topping(\"extra cheese\")\n",
    "pizza_1.display_toppings()"
   ]
  },
  {
   "cell_type": "code",
   "execution_count": 17,
   "metadata": {},
   "outputs": [],
   "source": [
    "pizza_1.remove_topping(\"olives\")"
   ]
  },
  {
   "cell_type": "code",
   "execution_count": 18,
   "metadata": {},
   "outputs": [
    {
     "name": "stdout",
     "output_type": "stream",
     "text": [
      "['mushrooms', 'extra cheese']\n"
     ]
    }
   ],
   "source": [
    "pizza_1.display_toppings()"
   ]
  },
  {
   "cell_type": "code",
   "execution_count": 19,
   "metadata": {},
   "outputs": [],
   "source": [
    "izza_2 = Pizza(\"deep dish\")\n",
    "\n",
    "pizza_2.add_topping(\"mushrooms\")\n",
    "\n",
    "pizza_2.add_topping(\"extra cheese\")"
   ]
  },
  {
   "cell_type": "code",
   "execution_count": 23,
   "metadata": {},
   "outputs": [],
   "source": [
    "list_of_pizza = [pizza_1, pizza_2]"
   ]
  },
  {
   "cell_type": "code",
   "execution_count": 26,
   "metadata": {},
   "outputs": [
    {
     "name": "stdout",
     "output_type": "stream",
     "text": [
      "Peperoni is already in the pizza\n",
      "Peperoni is already in the pizza\n",
      "['mushrooms', 'olives', 'extra cheese', 'peperoni']\n",
      "['mushrooms', 'extra cheese', 'peperoni']\n"
     ]
    }
   ],
   "source": [
    "for pizza in list_of_pizza:\n",
    "    pizza.add_topping(\"peperoni\")\n",
    "\n",
    "for pizza in list_of_pizza:\n",
    "    pizza.display_toppings()"
   ]
  },
  {
   "cell_type": "code",
   "execution_count": 32,
   "metadata": {},
   "outputs": [],
   "source": [
    "pizza_1.dough_2 = \"thin\""
   ]
  },
  {
   "cell_type": "code",
   "execution_count": 33,
   "metadata": {},
   "outputs": [
    {
     "data": {
      "text/plain": [
       "'thin'"
      ]
     },
     "execution_count": 33,
     "metadata": {},
     "output_type": "execute_result"
    }
   ],
   "source": [
    "pizza_1.dough_2"
   ]
  },
  {
   "cell_type": "code",
   "execution_count": 34,
   "metadata": {},
   "outputs": [
    {
     "ename": "AttributeError",
     "evalue": "'Pizza' object has no attribute 'dough_2'",
     "output_type": "error",
     "traceback": [
      "\u001b[1;31m---------------------------------------------------------------------------\u001b[0m",
      "\u001b[1;31mAttributeError\u001b[0m                            Traceback (most recent call last)",
      "\u001b[1;32mc:\\Users\\pouya\\Projects\\Python-Class-2023\\12\\pizza.ipynb Cell 11\u001b[0m in \u001b[0;36m1\n\u001b[1;32m----> <a href='vscode-notebook-cell:/c%3A/Users/pouya/Projects/Python-Class-2023/12/pizza.ipynb#X15sZmlsZQ%3D%3D?line=0'>1</a>\u001b[0m pizza_2\u001b[39m.\u001b[39;49mdough_2\n",
      "\u001b[1;31mAttributeError\u001b[0m: 'Pizza' object has no attribute 'dough_2'"
     ]
    }
   ],
   "source": [
    "pizza_2.dough_2"
   ]
  },
  {
   "cell_type": "code",
   "execution_count": 36,
   "metadata": {},
   "outputs": [
    {
     "data": {
      "text/plain": [
       "'Ali Mammad'"
      ]
     },
     "execution_count": 36,
     "metadata": {},
     "output_type": "execute_result"
    }
   ],
   "source": [
    "\"Ali\" + \" Mammad\""
   ]
  },
  {
   "cell_type": "code",
   "execution_count": null,
   "metadata": {},
   "outputs": [],
   "source": [
    "class Food:\n",
    "    def __init__(self, name, price, calorie):\n",
    "        self.name = name\n",
    "        self.price = price\n",
    "        self.calorie = calorie\n",
    "\n",
    "class Kabab(Food):\n",
    "    def __init__(self, name, price, calorie, size):\n",
    "        super().__init__(name, price, calorie)\n",
    "        self.size = size\n",
    "\n",
    "class Pizza(Food):\n",
    "    def __init__(self, name, price, calorie, toppings):\n",
    "        super().__init__(name, price, calorie)\n",
    "        self.toppings = toppings"
   ]
  },
  {
   "cell_type": "code",
   "execution_count": 40,
   "metadata": {},
   "outputs": [
    {
     "name": "stdout",
     "output_type": "stream",
     "text": [
      "1 2 3\n"
     ]
    }
   ],
   "source": [
    "list_1 = [1, 2, 3]\n",
    "a, b, c = 0, 0, 0\n",
    "a, b, c = list_1\n",
    "\n",
    "print(a,b,c)"
   ]
  },
  {
   "cell_type": "code",
   "execution_count": 69,
   "metadata": {},
   "outputs": [],
   "source": [
    "def retrun_two_value(a,b):\n",
    "    a *= 2\n",
    "    b *= 3\n",
    "    return a,b\n",
    "\n",
    "d,f = retrun_two_value(2,2)"
   ]
  },
  {
   "cell_type": "code",
   "execution_count": 67,
   "metadata": {},
   "outputs": [
    {
     "name": "stdout",
     "output_type": "stream",
     "text": [
      "4 6\n"
     ]
    },
    {
     "data": {
      "text/plain": [
       "8"
      ]
     },
     "execution_count": 67,
     "metadata": {},
     "output_type": "execute_result"
    }
   ],
   "source": [
    "print(d,f)\n",
    "d * 2\n"
   ]
  },
  {
   "cell_type": "code",
   "execution_count": 53,
   "metadata": {},
   "outputs": [
    {
     "name": "stdout",
     "output_type": "stream",
     "text": [
      "1 2 3\n"
     ]
    }
   ],
   "source": [
    "tuple_1 = (1, 2, 3)\n",
    "\n",
    "print(*tuple_1)"
   ]
  },
  {
   "cell_type": "code",
   "execution_count": 71,
   "metadata": {},
   "outputs": [
    {
     "name": "stdout",
     "output_type": "stream",
     "text": [
      "[0, 1, 0, 1, 0, 1, 0, 1, 0, 1, 0, 1, 0, 1, 0, 1, 0, 1, 0, 1]\n"
     ]
    }
   ],
   "source": [
    "list = [0] * 10\n",
    "2dlist = [[1,2]\n",
    "          [2,3]]\n",
    "print(list)"
   ]
  }
 ],
 "metadata": {
  "kernelspec": {
   "display_name": "testpy",
   "language": "python",
   "name": "python3"
  },
  "language_info": {
   "codemirror_mode": {
    "name": "ipython",
    "version": 3
   },
   "file_extension": ".py",
   "mimetype": "text/x-python",
   "name": "python",
   "nbconvert_exporter": "python",
   "pygments_lexer": "ipython3",
   "version": "3.10.8"
  },
  "orig_nbformat": 4
 },
 "nbformat": 4,
 "nbformat_minor": 2
}
