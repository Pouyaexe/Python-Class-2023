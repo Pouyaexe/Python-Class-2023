{
 "cells": [
  {
   "attachments": {},
   "cell_type": "markdown",
   "metadata": {},
   "source": [
    "Homework Assignment: Class Design for Shop Orders\n",
    "\n",
    "Objective:\n",
    "Design a class structure to manage and process orders in a shop. The class should handle adding items to an order, calculating the total cost, and displaying the order details.\n",
    "\n",
    "Requirements:\n",
    "\n",
    "1. Create a class called \"Order\" with the following attributes:\n",
    "   - order_id (string): unique identifier for the order\n",
    "   - items (list): a list of items in the order\n",
    "\n",
    "2. The Order class should have the following methods:\n",
    "   - add_item(item_name: str, quantity: int, price: float): Add an item to the order with its name, quantity, and price.\n",
    "   - calculate_total_cost(): Calculate and return the total cost of the order.\n",
    "   - display_order(): Display the details of the order, including the order ID, items, quantities, and individual costs.\n",
    "\n",
    "3. Create a class called \"Shop\" with the following attributes:\n",
    "   - shop_name (string): name of the shop\n",
    "   - orders (list): a list to store the orders placed in the shop\n",
    "\n",
    "4. The Shop class should have the following methods:\n",
    "   - place_order(order_id: str): Create a new order with the given order ID and add it to the list of orders.\n",
    "   - add_item_to_order(order_id: str, item_name: str, quantity: int, price: float): Add an item to the specified order.\n",
    "   - calculate_order_total(order_id: str): Calculate and return the total cost of the specified order.\n",
    "   - display_shop_orders(): Display the details of all the orders placed in the shop.\n",
    "\n",
    "Instructions:\n",
    "\n",
    "1. Implement the Order class according to the specified attributes and methods.\n",
    "\n",
    "2. Implement the Shop class according to the specified attributes and methods.\n",
    "\n",
    "3. Create an instance of the Shop class and perform the following actions:\n",
    "   - Place an order with an order ID.\n",
    "   - Add multiple items to the order.\n",
    "   - Calculate and print the total cost of the order.\n",
    "   - Display the details of all the orders placed in the shop.\n",
    "\n",
    "Note: You can create additional helper methods or attributes in the classes if needed.\n",
    "\n",
    "Example Output:\n",
    "\n",
    "\n",
    "Shop Name: ABC Shop\n",
    "\n",
    "Placing Order...\n",
    "Order ID: #123\n",
    "\n",
    "Adding items to Order #123...\n",
    "Item: Apple, Quantity: 5, Price: $0.50\n",
    "Item: Banana, Quantity: 3, Price: $0.30\n",
    "Item: Orange, Quantity: 2, Price: $0.40\n",
    "\n",
    "Calculating Total Cost of Order #123...\n",
    "Total Cost: $3.40\n",
    "\n",
    "Displaying Shop Orders...\n",
    "Order ID: #123\n",
    "Items:\n",
    "- Apple: Quantity: 5, Price: $0.50, Total: $2.50\n",
    "- Banana: Quantity: 3, Price: $0.30, Total: $0.90\n",
    "- Orange: Quantity: 2, Price: $0.40, Total: $0.80\n",
    "\n",
    "Order ID: #456\n",
    "Items:\n",
    "- Mango: Quantity: 2, Price: $0.75, Total: $1.50\n",
    "- Watermelon: Quantity: 1, Price: $2.50, Total: $2.50"
   ]
  },
  {
   "cell_type": "code",
   "execution_count": 20,
   "metadata": {},
   "outputs": [],
   "source": [
    "class Order:\n",
    "    def __init__(self, order_id):\n",
    "        self.order_id = order_id\n",
    "        self.items = []\n",
    "\n",
    "    def add_item(self, item_name: str, quantity: int, price: float):\n",
    "        item = {\n",
    "            \"item_name\": item_name,\n",
    "            \"quantity\": quantity,\n",
    "            \"price\": price,\n",
    "        }\n",
    "        self.items.append(item)\n",
    "        # [{'apple',4, 3.66 }, {}, {}]\n",
    "\n",
    "    def calculate_total_cost(self):\n",
    "        total_cost = 0\n",
    "        for item in self.items:\n",
    "            total_cost += item[\"quantity\"] * item[\"price\"]\n",
    "        return total_cost\n",
    "\n",
    "    def display_order(self):\n",
    "        print(f\"Order ID: #{self.order_id}:\")\n",
    "        for item in self.items:\n",
    "            item_total = item[\"quantity\"] * item[\"price\"]\n",
    "            print(\n",
    "                f'- {item[\"item_name\"]}:Quantity: {item[\"quantity\"]}, Price: {item[\"price\"]}, Total:${item_total}'\n",
    "            )"
   ]
  },
  {
   "cell_type": "code",
   "execution_count": 21,
   "metadata": {},
   "outputs": [],
   "source": [
    "order_1 = Order(1234)"
   ]
  },
  {
   "cell_type": "code",
   "execution_count": 22,
   "metadata": {},
   "outputs": [],
   "source": [
    "order_1.add_item(\"Apple\", 4, 3.99)\n",
    "order_1.add_item(\"Banana\", 3, 0.79)"
   ]
  },
  {
   "cell_type": "code",
   "execution_count": 23,
   "metadata": {},
   "outputs": [
    {
     "name": "stdout",
     "output_type": "stream",
     "text": [
      "18.330000000000002\n"
     ]
    }
   ],
   "source": [
    "print(order_1.calculate_total_cost())"
   ]
  },
  {
   "cell_type": "code",
   "execution_count": 25,
   "metadata": {},
   "outputs": [
    {
     "name": "stdout",
     "output_type": "stream",
     "text": [
      "Order ID: #1234:\n",
      "- Apple:Quantity: 4, Price: 3.99, Total:$15.96\n",
      "- Banana:Quantity: 3, Price: 0.79, Total:$2.37\n"
     ]
    }
   ],
   "source": [
    "order_1.display_order()"
   ]
  },
  {
   "cell_type": "code",
   "execution_count": 27,
   "metadata": {},
   "outputs": [],
   "source": [
    "class Shop:\n",
    "    def __init__(self,shop_name) -> None:\n",
    "        self.shop_name = shop_name\n",
    "        self.orders = []\n",
    "        \n",
    "    def place_order(self, order_id):\n",
    "        order = Order(order_id)\n",
    "        self.orders.append(order)\n",
    "    \n",
    "    def add_item_to_order(self, order_id, item_name, quantity, price):\n",
    "        for order in self.orders:\n",
    "            if order.order_id == order_id:\n",
    "                order.add_item(item_name, quantity, price)\n",
    "                break\n",
    "\n",
    "    def calculate_order_total(self, order_id):\n",
    "        for order in self.orders:\n",
    "            if order.order_id == order_id:\n",
    "                return order.calculate_total_cost()\n",
    "        return None\n",
    "    \n",
    "    def display_shop_orders(self):\n",
    "        print(f\"Shop Name: {self.shop_name}\")\n",
    "        print(\"Displaying Shop orders...\")\n",
    "        for ord_ in self.orders:\n",
    "            ord_.display_order()\n",
    "            print()"
   ]
  },
  {
   "cell_type": "code",
   "execution_count": 28,
   "metadata": {},
   "outputs": [
    {
     "name": "stdout",
     "output_type": "stream",
     "text": [
      "Placing Order...\n",
      "\n",
      "Adding items to Order #123...\n",
      "\n",
      "Calculating Total Cost of Order #123...\n",
      "Total Cost: $4.20\n",
      "\n",
      "Displaying Shop Orders...\n",
      "Shop Name: ABC Shop\n",
      "Displaying Shop orders...\n",
      "Order ID: ##123:\n",
      "- Apple:Quantity: 5, Price: 0.5, Total:$2.5\n",
      "- Banana:Quantity: 3, Price: 0.3, Total:$0.8999999999999999\n",
      "- Orange:Quantity: 2, Price: 0.4, Total:$0.8\n",
      "\n"
     ]
    }
   ],
   "source": [
    "# Creating an instance of the Shop class\n",
    "shop = Shop(\"ABC Shop\")\n",
    "\n",
    "# Placing an order\n",
    "print(\"Placing Order...\")\n",
    "shop.place_order(\"#123\")\n",
    "\n",
    "# Adding items to the order\n",
    "print(\"\\nAdding items to Order #123...\")\n",
    "shop.add_item_to_order(\"#123\", \"Apple\", 5, 0.50)\n",
    "shop.add_item_to_order(\"#123\", \"Banana\", 3, 0.30)\n",
    "shop.add_item_to_order(\"#123\", \"Orange\", 2, 0.40)\n",
    "\n",
    "# Calculating and printing the total cost of the order\n",
    "print(\"\\nCalculating Total Cost of Order #123...\")\n",
    "total_cost = shop.calculate_order_total(\"#123\")\n",
    "print(f\"Total Cost: ${total_cost:.2f}\")\n",
    "\n",
    "# Displaying the details of all the orders placed in the shop\n",
    "print(\"\\nDisplaying Shop Orders...\")\n",
    "shop.display_shop_orders()\n"
   ]
  }
 ],
 "metadata": {
  "kernelspec": {
   "display_name": "testpy",
   "language": "python",
   "name": "python3"
  },
  "language_info": {
   "codemirror_mode": {
    "name": "ipython",
    "version": 3
   },
   "file_extension": ".py",
   "mimetype": "text/x-python",
   "name": "python",
   "nbconvert_exporter": "python",
   "pygments_lexer": "ipython3",
   "version": "3.10.8"
  },
  "orig_nbformat": 4
 },
 "nbformat": 4,
 "nbformat_minor": 2
}
