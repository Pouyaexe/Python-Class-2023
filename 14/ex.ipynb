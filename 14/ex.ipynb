{
 "cells": [
  {
   "cell_type": "code",
   "execution_count": 5,
   "metadata": {},
   "outputs": [
    {
     "name": "stdout",
     "output_type": "stream",
     "text": [
      "1\n"
     ]
    }
   ],
   "source": [
    "str_1 = \"15\"\n",
    "str_1 = \"1:6\"\n",
    "str_1[0]\n"
   ]
  },
  {
   "cell_type": "code",
   "execution_count": 9,
   "metadata": {},
   "outputs": [
    {
     "name": "stdout",
     "output_type": "stream",
     "text": [
      "Day 35 is not valid for jul\n",
      "jul has 31 days\n"
     ]
    }
   ],
   "source": [
    "day = int(input(\"Day? \"))\n",
    "month = int(input(\"Month? \"))\n",
    "\n",
    "if month > 12:\n",
    "    month = (\n",
    "        month % 12\n",
    "    )  # if month is greater than 12, then we want to get the remainder of the month\n",
    "\n",
    "# We want to see if the given day is valid for the given month\n",
    "list_of_range_months = [31, 28, 31, 30, 31, 30, 31, 31, 30, 31, 30, 31]\n",
    "name_of_months = [\n",
    "    \"jan\",\n",
    "    \"feb\",\n",
    "    \"mar\",\n",
    "    \"apr\",\n",
    "    \"may\",\n",
    "    \"jun\",\n",
    "    \"jul\",\n",
    "    \"aug\",\n",
    "    \"sep\",\n",
    "    \"oct\",\n",
    "    \"nov\",\n",
    "    \"dec\",\n",
    "]\n",
    "\n",
    "# check if whether the given day is valid for the given month or not\n",
    "if day <= list_of_range_months[month - 1]:\n",
    "    print(\n",
    "        f\"Day {day} is valid for {name_of_months[month - 1].title()}\"\n",
    "    )  # Day 31 is valid for Jan\n",
    "else:\n",
    "    print(\n",
    "        f\"Day {day} is not valid for {name_of_months[month - 1]}\"\n",
    "    )  # Day 35, feb -> feb has 28 days\n",
    "    print(f\"{name_of_months[month -1]} has {list_of_range_months[month-1]} days\")"
   ]
  },
  {
   "attachments": {},
   "cell_type": "markdown",
   "metadata": {},
   "source": [
    "Exercise: Airplane Simulation\n",
    "\n",
    "Description:\n",
    "In this exercise, you will create a Python class that simulates the behavior of an airplane. The airplane class will have attributes and methods to represent various aspects of an airplane's operation.\n",
    "\n",
    "Instructions:\n",
    "1. Create an Airplane class with the following attributes:\n",
    "   - model: A string representing the model of the airplane.\n",
    "   - fuel_capacity: A float representing the maximum fuel capacity of the airplane in liters.\n",
    "   - current_fuel: A float representing the current fuel level of the airplane in liters.\n",
    "   - passenger_capacity: An integer representing the maximum number of passengers the airplane can carry.\n",
    "   - current_passengers: An integer representing the current number of passengers on the airplane.\n",
    "\n",
    "2. Implement the following methods for the Airplane class:\n",
    "   - init(self, model, fuel_capacity, passenger_capacity): Initialize the attributes of the airplane class.\n",
    "   - get_model(self): Return the model of the airplane.\n",
    "   - get_fuel_capacity(self): Return the maximum fuel capacity of the airplane.\n",
    "   - get_current_fuel(self): Return the current fuel level of the airplane.\n",
    "   - get_passenger_capacity(self): Return the maximum passenger capacity of the airplane.\n",
    "   - get_current_passengers(self): Return the current number of passengers on the airplane.\n",
    "   - refuel(self, amount): Refuel the airplane by the specified amount of fuel.\n",
    "   - board_passenger(self, count): Board the specified number of passengers onto the airplane.\n",
    "   - take_off(self): Simulate the airplane taking off by deducting fuel and checking passenger count.\n",
    "\n",
    "3. Create an instance of the Airplane class and demonstrate the usage of its methods:\n",
    "   - Create an airplane object with your desired model, fuel capacity, and passenger capacity.\n",
    "   - Print the airplane's model, fuel capacity, current fuel level, passenger capacity, and current passenger count.\n",
    "   - Refuel the airplane with a specific amount of fuel.\n",
    "   - Board a certain number of passengers onto the airplane.\n",
    "   - Simulate the airplane taking off by invoking the take_off() method.\n",
    "   - Print the updated fuel level and passenger count.\n",
    "\n",
    "Example Output:\n",
    "\n",
    "Airplane Model: Boeing 747\n",
    "Fuel Capacity: 20000 liters\n",
    "Current Fuel: 15000 liters\n",
    "Passenger Capacity: 400\n",
    "Current Passengers: 200\n",
    "\n",
    "Refueling the airplane with 5000 liters of fuel...\n",
    "Boarding 50 passengers...\n",
    "\n",
    "Taking off...\n",
    "\n",
    "Updated Fuel Level: 10000 liters\n",
    "Updated Passenger Count: 250\n",
    "\n",
    "\n",
    "Note: You can extend this simulation by adding more methods and attributes to the Airplane class, such as landing, cruising, and checking available seats. Be creative and have fun simulating the behavior of an airplane!"
   ]
  },
  {
   "cell_type": "code",
   "execution_count": 32,
   "metadata": {},
   "outputs": [],
   "source": [
    "class Airplane:\n",
    "    def __init__(self, model: str, fuel_capacity: float, passenger_capacity: int):\n",
    "        self.model = model\n",
    "        self.fuel_capacity = fuel_capacity\n",
    "        self.current_fuel = 0\n",
    "        self.passenger_capacity = passenger_capacity\n",
    "        self.current_passengers = 0\n",
    "\n",
    "    def get_model(self):\n",
    "        return self.model\n",
    "\n",
    "    def get_fuel_capacity(self):\n",
    "        return self.fuel_capacity\n",
    "\n",
    "    def get_current_fuel(self):\n",
    "        return self.current_fuel\n",
    "\n",
    "    def get_passenger_capacity(self):\n",
    "        return self.passenger_capacity\n",
    "\n",
    "    def get_current_passengers(self):\n",
    "        return self.current_passengers\n",
    "\n",
    "    def refuel(self, amount: float):\n",
    "        if self.current_fuel + amount > self.fuel_capacity:\n",
    "            print(\"Too much fuel\")\n",
    "        else:\n",
    "            self.current_fuel += amount\n",
    "\n",
    "    def board_passenger(self, count: int):\n",
    "        if self.current_passengers + count > self.passenger_capacity:\n",
    "            print(\"Too many passengers\")\n",
    "        else:\n",
    "            self.current_passengers += count\n",
    "\n",
    "    def take_off(self):\n",
    "        if (\n",
    "            0.75 * self.fuel_capacity <= self.current_fuel\n",
    "            and self.current_passengers >= 1\n",
    "        ):\n",
    "            self.current_fuel -= self.current_passengers * 5\n",
    "            print(\"\\nTaking off...🛫\")\n",
    "        else:\n",
    "            if 0.75 * self.fuel_capacity > self.current_fuel:\n",
    "                print(\"\\nNot enough fuel\")\n",
    "                required_amount = 0.75 * self.fuel_capacity - self.current_fuel\n",
    "                print(f\"You need {required_amount} more fuel\")\n",
    "            else:\n",
    "                print(\"\\nNot enough passengers\")\n",
    "\n",
    "Airplane1 = Airplane(\"Boeing 777\", 100000, 300)\n"
   ]
  },
  {
   "cell_type": "code",
   "execution_count": 33,
   "metadata": {},
   "outputs": [],
   "source": [
    "Airplane1.refuel(90000)"
   ]
  },
  {
   "cell_type": "code",
   "execution_count": 34,
   "metadata": {},
   "outputs": [],
   "source": [
    "Airplane1.board_passenger(150)"
   ]
  },
  {
   "cell_type": "code",
   "execution_count": 35,
   "metadata": {},
   "outputs": [
    {
     "name": "stdout",
     "output_type": "stream",
     "text": [
      "\n",
      "Taking off...🛫\n"
     ]
    }
   ],
   "source": [
    "Airplane1.take_off()"
   ]
  },
  {
   "cell_type": "code",
   "execution_count": 37,
   "metadata": {},
   "outputs": [],
   "source": [
    "Airplane2 = Airplane(model=\"747\", fuel_capacity=90000, passenger_capacity=300)\n",
    "list_of_airplanes = [Airplane1, Airplane2]"
   ]
  },
  {
   "cell_type": "code",
   "execution_count": null,
   "metadata": {},
   "outputs": [],
   "source": [
    "class Airport():\n",
    "    def __init__(self, name, code, airplanes:list):\n",
    "        self.name = name\n",
    "        self.code = code\n",
    "        self.airplanes = airplanes"
   ]
  }
 ],
 "metadata": {
  "kernelspec": {
   "display_name": "testpy",
   "language": "python",
   "name": "python3"
  },
  "language_info": {
   "codemirror_mode": {
    "name": "ipython",
    "version": 3
   },
   "file_extension": ".py",
   "mimetype": "text/x-python",
   "name": "python",
   "nbconvert_exporter": "python",
   "pygments_lexer": "ipython3",
   "version": "3.10.8"
  },
  "orig_nbformat": 4
 },
 "nbformat": 4,
 "nbformat_minor": 2
}
