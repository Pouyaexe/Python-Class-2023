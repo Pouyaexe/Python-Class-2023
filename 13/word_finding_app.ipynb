{
 "cells": [
  {
   "cell_type": "code",
   "execution_count": 12,
   "metadata": {},
   "outputs": [
    {
     "name": "stdout",
     "output_type": "stream",
     "text": [
      "natural : 5\n",
      "natural : 5.0\n",
      "language : 7\n",
      "language : 7.000000000000001\n",
      "Challenges : 1\n",
      "Challenges : 1.0\n",
      "\n",
      "Natural **LANGUAGE** processing (NLP) is an interdisciplinary subfield of linguistics, computer science, and\n",
      "artificial intelligence concerned with the interactions between computers and human **LANGUAGE**, in particular \n",
      "how to program computers to process and analyze large amounts of **NATURAL** **LANGUAGE** data. The goal is a computer\n",
      "capable of \"understanding\" the contents of documents, including the contextual nuances of the **LANGUAGE** within them.\n",
      "The technology can then accurately extract information and insights contained in the documents as well as categorize\n",
      "and organize the documents themselves.\n",
      "\n",
      "**CHALLENGES** in **NATURAL** **LANGUAGE** processing frequently involve speech recognition, **NATURAL**-**LANGUAGE** understanding, \n",
      "and **NATURAL**-**LANGUAGE** generation.\n",
      "\n",
      "\n"
     ]
    }
   ],
   "source": [
    "import string\n",
    "text = \"\"\"\n",
    "Natural language processing (NLP) is an interdisciplinary subfield of linguistics, computer science, and\n",
    "artificial intelligence concerned with the interactions between computers and human language, in particular \n",
    "how to program computers to process and analyze large amounts of natural language data. The goal is a computer\n",
    "capable of \"understanding\" the contents of documents, including the contextual nuances of the language within them.\n",
    "The technology can then accurately extract information and insights contained in the documents as well as categorize\n",
    "and organize the documents themselves.\n",
    "\n",
    "Challenges in natural language processing frequently involve speech recognition, natural-language understanding, \n",
    "and natural-language generation.\n",
    "\n",
    "\"\"\"\n",
    "\n",
    "\n",
    "list_of_words = [\"natural\", \"language\", \"Challenges\"]\n",
    "\n",
    "def count_number_each_word_from_list_in_text(text, list_of_words):\n",
    "    text_lower = text.lower()\n",
    "    for word in list_of_words:\n",
    "        print(f\"{word} : {text_lower.count(word.lower())}\")\n",
    "        # % of each word in text (word)/(all of words)  \n",
    "        print(f\"{word} : {round((text_lower.count(word.lower())/len(text_lower.split())), 2)}\")\n",
    "        \n",
    "def highlight(text, word):\n",
    "    return text.replace(word, f\"**{word.upper()}**\")\n",
    "\n",
    "for word in list_of_words:\n",
    "    text = highlight(text, word)\n",
    "\n",
    "\n",
    "count_number_each_word_from_list_in_text(text, list_of_words)\n",
    "\n",
    "print(text)"
   ]
  },
  {
   "cell_type": "code",
   "execution_count": null,
   "metadata": {},
   "outputs": [],
   "source": [
    "list_of_words = text.split()\n",
    "not_duplicate = []\n",
    "for word in text.split():\n",
    "    if word not in not_duplicate:\n",
    "        not_duplicate.append(word)\n",
    "\n",
    "# Remove the duplicate words from the \"text\" variable \n",
    "# set = {1,2,3,4,5,2} -> {1,2,3,4,5}\n",
    "# \" \".join means join the list with spaces\n",
    "\n",
    "set_of_words = set(text.split())\n",
    "\n"
   ]
  },
  {
   "attachments": {},
   "cell_type": "markdown",
   "metadata": {},
   "source": [
    "Natural **LANGUAGE** processing (NLP) is an interdisciplinary subfield of linguistics, computer science, and\n",
    "artificial intelligence concerned with the interactions between computers and human **LANGUAGE**, in particular \n",
    "how to program computers to process and analyze large amounts of **NATURAL** **LANGUAGE** data. The goal is a computer\n",
    "capable of \"understanding\" the contents of documents, including the contextual nuances of the **LANGUAGE** within them.\n",
    "The technology can then accurately extract information and insights contained in the documents as well as categorize\n",
    "and organize the documents themselves.\n",
    "\n",
    "**CHALLENGES** in **NATURAL** **LANGUAGE** processing frequently involve speech recognition, **NATURAL**-**LANGUAGE** understanding, \n",
    "and **NATURAL**-**LANGUAGE** generation."
   ]
  },
  {
   "cell_type": "code",
   "execution_count": 25,
   "metadata": {},
   "outputs": [
    {
     "name": "stdout",
     "output_type": "stream",
     "text": [
      "{1, 2, 3, 4, 5, 6}\n"
     ]
    }
   ],
   "source": [
    "my_set = {1, 2, 3, 4, 5}\n",
    "my_set.add(6)\n",
    "print(my_set)"
   ]
  },
  {
   "cell_type": "code",
   "execution_count": null,
   "metadata": {},
   "outputs": [],
   "source": [
    "# .Net framework -> C#"
   ]
  }
 ],
 "metadata": {
  "kernelspec": {
   "display_name": "testpy",
   "language": "python",
   "name": "python3"
  },
  "language_info": {
   "codemirror_mode": {
    "name": "ipython",
    "version": 3
   },
   "file_extension": ".py",
   "mimetype": "text/x-python",
   "name": "python",
   "nbconvert_exporter": "python",
   "pygments_lexer": "ipython3",
   "version": "3.10.8"
  },
  "orig_nbformat": 4
 },
 "nbformat": 4,
 "nbformat_minor": 2
}
