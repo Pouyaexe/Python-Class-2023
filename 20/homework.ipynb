{
 "cells": [
  {
   "cell_type": "code",
   "execution_count": 2,
   "metadata": {},
   "outputs": [],
   "source": [
    "class Shape:\n",
    "    def __init__(self, name, color) -> None:\n",
    "        self.name = name\n",
    "        self.color = color\n",
    "    \n",
    "    def area(self):\n",
    "        pass\n",
    "    \n",
    "    def perimeter(self):\n",
    "        pass"
   ]
  },
  {
   "cell_type": "code",
   "execution_count": 13,
   "metadata": {},
   "outputs": [],
   "source": [
    "class Rectangle(Shape):\n",
    "    def __init__(self, name, color_r, length, width) -> None:\n",
    "        super().__init__(name, color_r)\n",
    "        self.length = length\n",
    "        self.width = width\n",
    "    \n",
    "    def area(self):\n",
    "        return self.length * self.width\n",
    "    \n",
    "    def perimeter(self):\n",
    "        return 2*(self.length + self.width)"
   ]
  },
  {
   "cell_type": "code",
   "execution_count": 14,
   "metadata": {},
   "outputs": [],
   "source": [
    "import math\n",
    "\n",
    "class Circle(Shape):\n",
    "    def __init__(self,name, color, radius):\n",
    "        super().__init__(name, color)\n",
    "        self.radius = radius\n",
    "        \n",
    "    def area(self):\n",
    "        return math.pi * self.radius ** 2\n",
    "    \n",
    "    def perimeter(self):\n",
    "        return 2 * math.pi * self.radius"
   ]
  },
  {
   "cell_type": "code",
   "execution_count": 21,
   "metadata": {},
   "outputs": [],
   "source": [
    "class Triangle(Shape):\n",
    "    def __init__(self, name, color, side1, side2, side3) -> None:\n",
    "        super().__init__(name, color)\n",
    "        self.side1 = side1\n",
    "        self.side2 = side2\n",
    "        self.side3 = side3\n",
    "    \n",
    "    def perimeter(self):\n",
    "        return self.side1 + self.side2 + self.side3  \n",
    "    \n",
    "    def area(self):\n",
    "        s = self.perimeter() / 2\n",
    "        return (s*(s-self.side1)*(s-self.side2)*(s-self.side3)) **0.5\n",
    "    \n",
    "    def area(self):\n",
    "        s = (self.side1 + self.side2 + self.side3)/ 2\n",
    "        return (s*(s-self.side1)*(s-self.side2)*(s-self.side3)) **0.5\n",
    "    "
   ]
  },
  {
   "cell_type": "markdown",
   "metadata": {},
   "source": [
    "Area = Square root of√s(s - a)(s - b)(s - c) where s is half the perimeter, or (a + b + c)/2."
   ]
  },
  {
   "cell_type": "code",
   "execution_count": 24,
   "metadata": {},
   "outputs": [],
   "source": [
    "Tri_1 = Triangle(\"Tri1\", \"Red\", 20,20,20)"
   ]
  },
  {
   "cell_type": "code",
   "execution_count": 25,
   "metadata": {},
   "outputs": [
    {
     "data": {
      "text/plain": [
       "173.20508075688772"
      ]
     },
     "execution_count": 25,
     "metadata": {},
     "output_type": "execute_result"
    }
   ],
   "source": [
    "Tri_1.area()"
   ]
  },
  {
   "cell_type": "code",
   "execution_count": 26,
   "metadata": {},
   "outputs": [
    {
     "name": "stdout",
     "output_type": "stream",
     "text": [
      "Rectangle\n",
      "Blue\n",
      "15.0\n",
      "16.0\n",
      "Circle\n",
      "Red\n",
      "19.634954084936208\n",
      "15.707963267948966\n",
      "Triangle\n",
      "Green\n",
      "9.921567416492215\n",
      "15.0\n"
     ]
    }
   ],
   "source": [
    "# Creating instances of each shape\n",
    "rectangle = Rectangle(\"Rectangle\", \"Blue\", 5.0, 3.0)\n",
    "circle = Circle(\"Circle\", \"Red\", 2.5)\n",
    "triangle = Triangle(\"Triangle\", \"Green\", 4.0, 6.0, 5.0)\n",
    "\n",
    "# Displaying shape information, area, and perimeter\n",
    "print(rectangle.name)\n",
    "print(rectangle.color)\n",
    "print(rectangle.area())  # Output: 15.0\n",
    "print(rectangle.perimeter())  # Output: 16.0\n",
    "\n",
    "print(circle.name)\n",
    "print(circle.color)\n",
    "print(circle.area())  # Output: 19.63495\n",
    "print(circle.perimeter())  # Output: 15.70795\n",
    "\n",
    "print(triangle.name)\n",
    "print(triangle.color)\n",
    "print(triangle.area())  # Output: 9.92156\n",
    "print(triangle.perimeter())  # Output: 15.0\n"
   ]
  },
  {
   "cell_type": "code",
   "execution_count": 33,
   "metadata": {},
   "outputs": [],
   "source": [
    "\n",
    "class Triangle_1(Shape):\n",
    "    def __init__(self, name, color, side1, side2, side3) -> None:\n",
    "        super().__init__(name, color)\n",
    "        self.side1 = side1\n",
    "        self.side2 = side2\n",
    "        self.side3 = side3\n",
    "\n",
    "        self.perimeter_var = None        \n",
    "        self.area_var = None\n",
    "    \n",
    "    def perimeter(self):    \n",
    "        if self.perimeter_var == None:\n",
    "            self.perimeter_var = self.side1 + self.side2 + self.side3  \n",
    "                    \n",
    "        return self.perimeter_var\n",
    "    \n",
    "    def area(self):\n",
    "        if self.area_var == None:\n",
    "            s = self.perimeter() / 2\n",
    "            self.area_var= (s*(s-self.side1)*(s-self.side2)*(s-self.side3)) **0.5\n",
    "            \n",
    "        return self.area_var"
   ]
  },
  {
   "cell_type": "code",
   "execution_count": 34,
   "metadata": {},
   "outputs": [],
   "source": [
    "Tri_2 = Triangle_1(\"Triangle\", \"Green\", 4.0, 6.0, 5.0)"
   ]
  },
  {
   "cell_type": "code",
   "execution_count": 36,
   "metadata": {},
   "outputs": [
    {
     "data": {
      "text/plain": [
       "15.0"
      ]
     },
     "execution_count": 36,
     "metadata": {},
     "output_type": "execute_result"
    }
   ],
   "source": [
    "Tri_2.perimeter()"
   ]
  },
  {
   "cell_type": "code",
   "execution_count": 39,
   "metadata": {},
   "outputs": [],
   "source": [
    "Tri_2.side1 = 12.0"
   ]
  },
  {
   "cell_type": "code",
   "execution_count": 40,
   "metadata": {},
   "outputs": [
    {
     "data": {
      "text/plain": [
       "15.0"
      ]
     },
     "execution_count": 40,
     "metadata": {},
     "output_type": "execute_result"
    }
   ],
   "source": [
    "Tri_2.perimeter()"
   ]
  },
  {
   "cell_type": "code",
   "execution_count": null,
   "metadata": {},
   "outputs": [],
   "source": []
  }
 ],
 "metadata": {
  "kernelspec": {
   "display_name": "testpy",
   "language": "python",
   "name": "python3"
  },
  "language_info": {
   "codemirror_mode": {
    "name": "ipython",
    "version": 3
   },
   "file_extension": ".py",
   "mimetype": "text/x-python",
   "name": "python",
   "nbconvert_exporter": "python",
   "pygments_lexer": "ipython3",
   "version": "3.10.8"
  },
  "orig_nbformat": 4
 },
 "nbformat": 4,
 "nbformat_minor": 2
}
