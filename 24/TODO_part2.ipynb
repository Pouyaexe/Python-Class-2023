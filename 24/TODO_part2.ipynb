{
 "cells": [
  {
   "cell_type": "markdown",
   "metadata": {},
   "source": [
    "🙂"
   ]
  },
  {
   "cell_type": "code",
   "execution_count": 28,
   "metadata": {},
   "outputs": [],
   "source": [
    "class Task:\n",
    "    def __init__(self,name, description, status = False) -> None:\n",
    "        self.name = name\n",
    "        self.description = description\n",
    "        self.status = status\n",
    "        \n",
    "    def mark_completed(self):\n",
    "        self.status = True\n",
    "    \n",
    "    def update_name(self):\n",
    "        self.name = input(\"Enter the new name: \")\n",
    "        self.description = input(\"Enter the new description: \")\n",
    "        \n",
    "    def __repr__(self) -> str:\n",
    "        if status:\n",
    "            return self.name + \"| Desc: \"+ self.description + \"[(Completed)]\"\n",
    "        else:\n",
    "            return self.name + \"| Desc: \"+ self.description + \"[(Not Completed)]\"\n",
    "                "
   ]
  },
  {
   "cell_type": "code",
   "execution_count": 17,
   "metadata": {},
   "outputs": [],
   "source": [
    "task1 = Task(\"Eggs\", \"Fresh\")\n",
    "task2 = Task(\"Milk\", \"Fresh\",False)"
   ]
  },
  {
   "cell_type": "code",
   "execution_count": 18,
   "metadata": {},
   "outputs": [],
   "source": [
    "task1.update_name(\"Edggs & Butter\") \n",
    "\n",
    "task1.name = \"Edggs & Butter\""
   ]
  },
  {
   "cell_type": "code",
   "execution_count": 19,
   "metadata": {},
   "outputs": [],
   "source": [
    "ToDoList = []\n",
    "ToDoList.append(task1)\n",
    "ToDoList.append(task2)\n",
    "\n",
    "def Add_Task(ToDoList):\n",
    "    name = input(\"Enter the task name: \")\n",
    "    desc = input(\"Input the description: \")\n",
    "    ToDoList.append(Task(name, desc))\n",
    "    return ToDoList\n",
    "\n",
    "ToDoList = Add_Task(ToDoList)"
   ]
  },
  {
   "cell_type": "code",
   "execution_count": 20,
   "metadata": {},
   "outputs": [
    {
     "name": "stdout",
     "output_type": "stream",
     "text": [
      "[Edggs & ButterDesc: Fresh, MilkDesc: Fresh, fishDesc: fresh]\n"
     ]
    }
   ],
   "source": [
    "print(ToDoList)\n",
    "\n",
    "# for task in ToDoList:\n",
    "#     print(task)"
   ]
  },
  {
   "cell_type": "code",
   "execution_count": 25,
   "metadata": {},
   "outputs": [],
   "source": [
    "task2.mark_completed()\n",
    "\n",
    "# task2.status = Flase\n"
   ]
  },
  {
   "cell_type": "code",
   "execution_count": 29,
   "metadata": {},
   "outputs": [
    {
     "name": "stdout",
     "output_type": "stream",
     "text": [
      "--- To-Do List Manager ---\n",
      "1. Add Task\n",
      "2. Edit Task\n",
      "3. Mark Task as Completed\n",
      "4. View Tasks\n",
      "5. Exit\n",
      "--- To-Do List Manager ---\n",
      "1. Add Task\n",
      "2. Edit Task\n",
      "3. Mark Task as Completed\n",
      "4. View Tasks\n",
      "5. Exit\n",
      "--- To-Do List Manager ---\n",
      "1. Add Task\n",
      "2. Edit Task\n",
      "3. Mark Task as Completed\n",
      "4. View Tasks\n",
      "5. Exit\n",
      "--- To-Do List Manager ---\n",
      "1. Add Task\n",
      "2. Edit Task\n",
      "3. Mark Task as Completed\n",
      "4. View Tasks\n",
      "5. Exit\n",
      "--- To-Do List Manager ---\n",
      "1. Add Task\n",
      "2. Edit Task\n",
      "3. Mark Task as Completed\n",
      "4. View Tasks\n",
      "5. Exit\n",
      "--- To-Do List Manager ---\n",
      "1. Add Task\n",
      "2. Edit Task\n",
      "3. Mark Task as Completed\n",
      "4. View Tasks\n",
      "5. Exit\n"
     ]
    },
    {
     "ename": "KeyboardInterrupt",
     "evalue": "Interrupted by user",
     "output_type": "error",
     "traceback": [
      "\u001b[1;31m---------------------------------------------------------------------------\u001b[0m",
      "\u001b[1;31mKeyboardInterrupt\u001b[0m                         Traceback (most recent call last)",
      "\u001b[1;32mc:\\Users\\pouya\\Projects\\Python-Class-2023\\24\\TODO_part2.ipynb Cell 8\u001b[0m in \u001b[0;36m1\n\u001b[0;32m     <a href='vscode-notebook-cell:/c%3A/Users/pouya/Projects/Python-Class-2023/24/TODO_part2.ipynb#X14sZmlsZQ%3D%3D?line=9'>10</a>\u001b[0m \u001b[39mprint\u001b[39m(\u001b[39m\"\u001b[39m\u001b[39m4. View Tasks\u001b[39m\u001b[39m\"\u001b[39m)\n\u001b[0;32m     <a href='vscode-notebook-cell:/c%3A/Users/pouya/Projects/Python-Class-2023/24/TODO_part2.ipynb#X14sZmlsZQ%3D%3D?line=10'>11</a>\u001b[0m \u001b[39mprint\u001b[39m(\u001b[39m\"\u001b[39m\u001b[39m5. Exit\u001b[39m\u001b[39m\"\u001b[39m)\n\u001b[1;32m---> <a href='vscode-notebook-cell:/c%3A/Users/pouya/Projects/Python-Class-2023/24/TODO_part2.ipynb#X14sZmlsZQ%3D%3D?line=12'>13</a>\u001b[0m choice \u001b[39m=\u001b[39m \u001b[39minput\u001b[39;49m(\u001b[39m\"\u001b[39;49m\u001b[39mEnter your choice(1-5): \u001b[39;49m\u001b[39m\"\u001b[39;49m)\n\u001b[0;32m     <a href='vscode-notebook-cell:/c%3A/Users/pouya/Projects/Python-Class-2023/24/TODO_part2.ipynb#X14sZmlsZQ%3D%3D?line=14'>15</a>\u001b[0m \u001b[39mif\u001b[39;00m choice \u001b[39m==\u001b[39m \u001b[39m\"\u001b[39m\u001b[39m1\u001b[39m\u001b[39m\"\u001b[39m:\n\u001b[0;32m     <a href='vscode-notebook-cell:/c%3A/Users/pouya/Projects/Python-Class-2023/24/TODO_part2.ipynb#X14sZmlsZQ%3D%3D?line=15'>16</a>\u001b[0m     name \u001b[39m=\u001b[39m \u001b[39minput\u001b[39m(\u001b[39m\"\u001b[39m\u001b[39mEnter the task name: \u001b[39m\u001b[39m\"\u001b[39m)\n",
      "File \u001b[1;32m~\\AppData\\Roaming\\Python\\Python310\\site-packages\\ipykernel\\kernelbase.py:1177\u001b[0m, in \u001b[0;36mKernel.raw_input\u001b[1;34m(self, prompt)\u001b[0m\n\u001b[0;32m   1173\u001b[0m \u001b[39mif\u001b[39;00m \u001b[39mnot\u001b[39;00m \u001b[39mself\u001b[39m\u001b[39m.\u001b[39m_allow_stdin:\n\u001b[0;32m   1174\u001b[0m     \u001b[39mraise\u001b[39;00m StdinNotImplementedError(\n\u001b[0;32m   1175\u001b[0m         \u001b[39m\"\u001b[39m\u001b[39mraw_input was called, but this frontend does not support input requests.\u001b[39m\u001b[39m\"\u001b[39m\n\u001b[0;32m   1176\u001b[0m     )\n\u001b[1;32m-> 1177\u001b[0m \u001b[39mreturn\u001b[39;00m \u001b[39mself\u001b[39;49m\u001b[39m.\u001b[39;49m_input_request(\n\u001b[0;32m   1178\u001b[0m     \u001b[39mstr\u001b[39;49m(prompt),\n\u001b[0;32m   1179\u001b[0m     \u001b[39mself\u001b[39;49m\u001b[39m.\u001b[39;49m_parent_ident[\u001b[39m\"\u001b[39;49m\u001b[39mshell\u001b[39;49m\u001b[39m\"\u001b[39;49m],\n\u001b[0;32m   1180\u001b[0m     \u001b[39mself\u001b[39;49m\u001b[39m.\u001b[39;49mget_parent(\u001b[39m\"\u001b[39;49m\u001b[39mshell\u001b[39;49m\u001b[39m\"\u001b[39;49m),\n\u001b[0;32m   1181\u001b[0m     password\u001b[39m=\u001b[39;49m\u001b[39mFalse\u001b[39;49;00m,\n\u001b[0;32m   1182\u001b[0m )\n",
      "File \u001b[1;32m~\\AppData\\Roaming\\Python\\Python310\\site-packages\\ipykernel\\kernelbase.py:1219\u001b[0m, in \u001b[0;36mKernel._input_request\u001b[1;34m(self, prompt, ident, parent, password)\u001b[0m\n\u001b[0;32m   1216\u001b[0m             \u001b[39mbreak\u001b[39;00m\n\u001b[0;32m   1217\u001b[0m \u001b[39mexcept\u001b[39;00m \u001b[39mKeyboardInterrupt\u001b[39;00m:\n\u001b[0;32m   1218\u001b[0m     \u001b[39m# re-raise KeyboardInterrupt, to truncate traceback\u001b[39;00m\n\u001b[1;32m-> 1219\u001b[0m     \u001b[39mraise\u001b[39;00m \u001b[39mKeyboardInterrupt\u001b[39;00m(\u001b[39m\"\u001b[39m\u001b[39mInterrupted by user\u001b[39m\u001b[39m\"\u001b[39m) \u001b[39mfrom\u001b[39;00m \u001b[39mNone\u001b[39m\n\u001b[0;32m   1220\u001b[0m \u001b[39mexcept\u001b[39;00m \u001b[39mException\u001b[39;00m:\n\u001b[0;32m   1221\u001b[0m     \u001b[39mself\u001b[39m\u001b[39m.\u001b[39mlog\u001b[39m.\u001b[39mwarning(\u001b[39m\"\u001b[39m\u001b[39mInvalid Message:\u001b[39m\u001b[39m\"\u001b[39m, exc_info\u001b[39m=\u001b[39m\u001b[39mTrue\u001b[39;00m)\n",
      "\u001b[1;31mKeyboardInterrupt\u001b[0m: Interrupted by user"
     ]
    }
   ],
   "source": [
    "tasks = []\n",
    "\n",
    "\n",
    "while True:\n",
    "    \n",
    "    print(\"--- To-Do List Manager ---\")\n",
    "    print(\"1. Add Task\")\n",
    "    print(\"2. Edit Task\")\n",
    "    print(\"3. Mark Task as Completed\")\n",
    "    print(\"4. View Tasks\")\n",
    "    print(\"5. Exit\")\n",
    "    \n",
    "    choice = input(\"Enter your choice(1-5): \")\n",
    "    \n",
    "    if choice == \"1\":\n",
    "        name = input(\"Enter the task name: \")\n",
    "        desc = input(\"Input the description: \")\n",
    "        tasks.append(Task(name, desc))\n",
    "        print(\"Task added successfully!\")\n",
    "    \n",
    "    # elif choice == \"2\":\n",
    "    #     index = int(input(\"Enter the task index to edit: \")) - 1\n",
    "    #     new_name = input(\"Enter the new task name: \")\n",
    "    #     new_desc = input(\"Enter the new task description: \")\n",
    "    #     task[index].name = new_name\n",
    "    #     task[index].description = new_desc\n",
    "    #     print(\"Task Updated seuccessfully!\")\n",
    "    \n",
    "    elif choice == \"2\": \n",
    "        index = int(input(\"Enter the task index to edit: \")) - 1\n",
    "        tasks[index].update_name()\n",
    "        print(\"Task Updated seuccessfully!\")\n",
    "        \n",
    "    elif choice == \"3\":\n",
    "        index = int(input(\"Enter the task index to complete: \")) - 1\n",
    "        tasks[index].mark_completed()\n",
    "        print(f\"Task {index + 1} marked as completed\")\n",
    "    \n",
    "    elif choice == \"4\":\n",
    "        print(\"To-Do List:\")\n",
    "        for task in tasks:\n",
    "            print(task)\n",
    "            \n",
    "    elif choice == \"5\":\n",
    "        print(\"Exiting the To-Do List Manager.\")\n",
    "        break"
   ]
  }
 ],
 "metadata": {
  "kernelspec": {
   "display_name": "testpy",
   "language": "python",
   "name": "python3"
  },
  "language_info": {
   "codemirror_mode": {
    "name": "ipython",
    "version": 3
   },
   "file_extension": ".py",
   "mimetype": "text/x-python",
   "name": "python",
   "nbconvert_exporter": "python",
   "pygments_lexer": "ipython3",
   "version": "3.10.8"
  },
  "orig_nbformat": 4
 },
 "nbformat": 4,
 "nbformat_minor": 2
}
