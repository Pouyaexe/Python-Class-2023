{
 "cells": [
  {
   "attachments": {},
   "cell_type": "markdown",
   "metadata": {},
   "source": [
    "Write a Python function that takes a list of numbers as input and returns the sum of all the even numbers in the list.  \n",
    "Example:\n",
    "Input: [1, 2, 3, 4, 5, 6, 7, 8]  \n",
    "Output: 20"
   ]
  },
  {
   "cell_type": "code",
   "execution_count": null,
   "metadata": {},
   "outputs": [],
   "source": [
    "def sum_even_numbers(nums):\n",
    "    \"\"\"\n",
    "    This function takes a list of numbers as input and returns the sum of all the even numbers in the list.\n",
    "    \"\"\"\n",
    "    total = 0\n",
    "    for num in nums:\n",
    "        if num % 2 == 0:\n",
    "            total += num\n",
    "    return total\n",
    "\n",
    "# Example usage:\n",
    "numbers = [1, 2, 3, 4, 5, 6, 7, 8]\n",
    "print(sum_even_numbers(numbers)) # Output: 20"
   ]
  },
  {
   "attachments": {},
   "cell_type": "markdown",
   "metadata": {},
   "source": [
    "Write a Python function that takes two lists as input and returns a new list that contains only the common elements between the two input lists.  Example:  \n",
    "Input: [1, 2, 3, 4, 5], [3, 4, 5, 6, 7]    \n",
    "Output: [3, 4, 5]  "
   ]
  },
  {
   "cell_type": "code",
   "execution_count": null,
   "metadata": {},
   "outputs": [],
   "source": [
    "def common_elements(list1, list2):\n",
    "    \"\"\"\n",
    "    This function takes two lists as input and returns a new list that contains only the common elements between the two input lists.\n",
    "    \"\"\"\n",
    "    common = []\n",
    "    for element in list1:\n",
    "        if element in list2:\n",
    "            common.append(element)\n",
    "    return common\n",
    "\n",
    "# Example usage:\n",
    "list1 = [1, 2, 3, 4, 5]\n",
    "list2 = [3, 4, 5, 6, 7]\n",
    "print(common_elements(list1, list2)) # Output: [3, 4, 5]"
   ]
  },
  {
   "attachments": {},
   "cell_type": "markdown",
   "metadata": {},
   "source": [
    "Write a Python function that takes a list of strings as input and returns a new list that contains only the strings with more than 5 characters.   \n",
    "Example:  \n",
    "Input: [\"apple\", \"banana\", \"cherry\", \"durian\", \"elderberry\"]\n",
    "Output: [\"banana\", \"cherry\", \"elderberry\"]"
   ]
  },
  {
   "cell_type": "code",
   "execution_count": null,
   "metadata": {},
   "outputs": [],
   "source": [
    "def strings_over_five(strings):\n",
    "    \"\"\"\n",
    "    This function takes a list of strings as input and returns a new list that contains only the strings with more than 5 characters.\n",
    "    \"\"\"\n",
    "    result = []\n",
    "    for string in strings:\n",
    "        if len(string) > 5:\n",
    "            result.append(string)\n",
    "    return result\n",
    "\n",
    "# Example usage:\n",
    "words = [\"apple\", \"banana\", \"cherry\", \"durian\", \"elderberry\"]\n",
    "print(strings_over_five(words)) # Output: [\"banana\", \"cherry\", \"elderberry\"]\n"
   ]
  },
  {
   "attachments": {},
   "cell_type": "markdown",
   "metadata": {},
   "source": [
    "Write a Python function that takes a list of integers as input and returns the product of all the numbers in the list.  \n",
    "Example:\n",
    "Input: [2, 3, 4, 5]\n",
    "Output: 120"
   ]
  },
  {
   "cell_type": "code",
   "execution_count": null,
   "metadata": {},
   "outputs": [],
   "source": [
    "def product_of_numbers(numbers):\n",
    "    \"\"\"\n",
    "    This function takes a list of integers as input and returns the product of all the numbers in the list.\n",
    "    \"\"\"\n",
    "    result = 1\n",
    "    for number in numbers:\n",
    "        result *= number\n",
    "    return result\n",
    "\n",
    "# Example usage:\n",
    "numbers = [2, 3, 4, 5]\n",
    "print(product_of_numbers(numbers)) # Output: 120"
   ]
  },
  {
   "attachments": {},
   "cell_type": "markdown",
   "metadata": {},
   "source": [
    "Write a Python function that takes a list of strings as input and returns a new list that contains the same strings in uppercase.  \n",
    "Example:  \n",
    "Input: [\"hello\", \"world\", \"python\"]  \n",
    "Output: [\"HELLO\", \"WORLD\", \"PYTHON\"]"
   ]
  },
  {
   "cell_type": "code",
   "execution_count": null,
   "metadata": {},
   "outputs": [],
   "source": [
    "def uppercase_strings(strings):\n",
    "    \"\"\"\n",
    "    This function takes a list of strings as input and returns a new list that contains the same strings in uppercase.\n",
    "    \"\"\"\n",
    "    result = []\n",
    "    for string in strings:\n",
    "        result.append(string.upper())\n",
    "    return result\n",
    "\n",
    "# Example usage:\n",
    "words = [\"hello\", \"world\", \"python\"]\n",
    "print(uppercase_strings(words)) # Output: [\"HELLO\", \"WORLD\", \"PYTHON\"]\n"
   ]
  },
  {
   "attachments": {},
   "cell_type": "markdown",
   "metadata": {},
   "source": [
    "# ****\n",
    "Write a Python function that takes a list of integers as input and returns a new list that contains only the numbers that are divisible by 3.  \n",
    "Example:\n",
    "Input: [2, 3, 4, 5, 6, 7, 8, 9]\n",
    "Output: [3, 6, 9]"
   ]
  },
  {
   "cell_type": "code",
   "execution_count": null,
   "metadata": {},
   "outputs": [],
   "source": [
    "def divisible_by_three(numbers):\n",
    "    \"\"\"\n",
    "    This function takes a list of integers as input and returns a new list that contains only the numbers that are divisible by 3.\n",
    "    \"\"\"\n",
    "    result = []\n",
    "    for number in numbers:\n",
    "        if number % 3 == 0:\n",
    "            result.append(number)\n",
    "    return result\n",
    "\n",
    "# Example usage:\n",
    "numbers = [2, 3, 4, 5, 6, 7, 8, 9]\n",
    "print(divisible_by_three(numbers)) # Output: [3, 6, 9]"
   ]
  },
  {
   "cell_type": "code",
   "execution_count": 1,
   "metadata": {},
   "outputs": [
    {
     "name": "stdout",
     "output_type": "stream",
     "text": [
      "None\n"
     ]
    }
   ],
   "source": [
    "def null_functuion(Num1):\n",
    "    pass\n",
    "#######\n",
    "\n",
    "print(null_functuion(2))"
   ]
  }
 ],
 "metadata": {
  "kernelspec": {
   "display_name": "testpy",
   "language": "python",
   "name": "python3"
  },
  "language_info": {
   "codemirror_mode": {
    "name": "ipython",
    "version": 3
   },
   "file_extension": ".py",
   "mimetype": "text/x-python",
   "name": "python",
   "nbconvert_exporter": "python",
   "pygments_lexer": "ipython3",
   "version": "3.10.8"
  },
  "orig_nbformat": 4
 },
 "nbformat": 4,
 "nbformat_minor": 2
}
