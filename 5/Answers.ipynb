{
 "cells": [
  {
   "attachments": {},
   "cell_type": "markdown",
   "metadata": {},
   "source": [
    "1. Write a module that contains a function to calculate the factorial of a number given by the user. Then, write a script that imports this module and uses the function to calculate the factorial of a number."
   ]
  },
  {
   "cell_type": "code",
   "execution_count": 4,
   "metadata": {},
   "outputs": [
    {
     "name": "stdout",
     "output_type": "stream",
     "text": [
      "120\n"
     ]
    }
   ],
   "source": [
    "# factorial_module.py\n",
    "def factorial(n):\n",
    "    \"\"\"\n",
    "    This function calculates the factorial of a given number\n",
    "    using a non-recursive method.\n",
    "    \"\"\"\n",
    "    result = 1\n",
    "    for i in range(1, n+1):\n",
    "        result *= i\n",
    "    return result \n",
    "# main.py \n",
    "# from factorial_module import factorial\n",
    "print(factorial(5))"
   ]
  },
  {
   "attachments": {},
   "cell_type": "markdown",
   "metadata": {},
   "source": [
    "2. Write a module that contains a list of groceries and a function to add or remove an item from the list. Then, write a script that imports this module and uses the function to add or remove an item from the list."
   ]
  },
  {
   "cell_type": "code",
   "execution_count": 5,
   "metadata": {},
   "outputs": [],
   "source": [
    "# grocery_list.py:\n",
    "grocery_list = [\"milk\", \"bread\", \"eggs\"]\n",
    "\n",
    "def add_item(item):\n",
    "    \"\"\"\n",
    "    This function adds an item to the grocery list.\n",
    "    \"\"\"\n",
    "    grocery_list.append(item)\n",
    "\n",
    "def remove_item(item):\n",
    "    \"\"\"\n",
    "    This function removes an item from the grocery list.\n",
    "    \"\"\"\n",
    "    grocery_list.remove(item)"
   ]
  },
  {
   "attachments": {},
   "cell_type": "markdown",
   "metadata": {},
   "source": [
    "3. Write a module that contains a function to check if a number is prime or not. Then, write a script that imports this module and uses the function to check if a given number is prime or not."
   ]
  },
  {
   "cell_type": "code",
   "execution_count": 6,
   "metadata": {},
   "outputs": [],
   "source": [
    "def is_prime(n):\n",
    "    \"\"\"\n",
    "    This function checks if a given number is prime or not.\n",
    "    \"\"\"\n",
    "    if n < 2:\n",
    "        return False\n",
    "    else:\n",
    "        for i in range(2, int(n**0.5)+1):\n",
    "            if n % i == 0:\n",
    "                return False\n",
    "        return True"
   ]
  },
  {
   "attachments": {},
   "cell_type": "markdown",
   "metadata": {},
   "source": [
    "4. Write a module that contains a function to convert a temperature from Celsius to Fahrenheit. Then, write a script that imports this module and uses the function to convert a temperature given in Celsius to Fahrenheit."
   ]
  },
  {
   "cell_type": "code",
   "execution_count": 7,
   "metadata": {},
   "outputs": [],
   "source": [
    "# tem\n",
    "def celsius_to_fahrenheit(celsius):\n",
    "    \"\"\"\n",
    "    This function converts a temperature from Celsius to Fahrenheit.\n",
    "    \"\"\"\n",
    "    fahrenheit = (celsius * 1.8) + 32\n",
    "    return fahrenheit"
   ]
  },
  {
   "attachments": {},
   "cell_type": "markdown",
   "metadata": {},
   "source": [
    "⭐5. Write a module that contains a function that checks if a given string is a palindrome. Then, write a script that imports this module and uses the function to check if a given string is a palindrome."
   ]
  },
  {
   "cell_type": "code",
   "execution_count": 8,
   "metadata": {},
   "outputs": [],
   "source": [
    "# prime_module.py\n",
    "def is_palindrome(s):\n",
    "    \"\"\"\n",
    "    This function checks if a given string is a palindrome.\n",
    "    \"\"\"\n",
    "    s = s.lower()\n",
    "    s = s.replace(\" \", \"\") # remove spaces\n",
    "    return s == s[::-1]"
   ]
  },
  {
   "attachments": {},
   "cell_type": "markdown",
   "metadata": {},
   "source": [
    "⭐6. Write a module that contains a function that generates a random password consisting of alphanumeric characters of a given length. Then, write a script that imports this module and uses the function to generate a random password of a given length."
   ]
  },
  {
   "cell_type": "code",
   "execution_count": 9,
   "metadata": {},
   "outputs": [],
   "source": [
    "import random\n",
    "import string\n",
    "def generate_password(length):\n",
    "    \"\"\"\n",
    "    This function generates a random password consisting of alphanumeric characters.\n",
    "    \"\"\"\n",
    "    characters = string.ascii_letters + string.digits\n",
    "    password = ''.join(random.choice(characters) for i in range(length))\n",
    "    return password"
   ]
  },
  {
   "cell_type": "code",
   "execution_count": 10,
   "metadata": {},
   "outputs": [
    {
     "ename": "NameError",
     "evalue": "name 'factorial_module' is not defined",
     "output_type": "error",
     "traceback": [
      "\u001b[0;31m---------------------------------------------------------------------------\u001b[0m",
      "\u001b[0;31mNameError\u001b[0m                                 Traceback (most recent call last)",
      "Cell \u001b[0;32mIn[10], line 12\u001b[0m\n\u001b[1;32m      1\u001b[0m \u001b[39m# main.py:\u001b[39;00m\n\u001b[1;32m      2\u001b[0m \n\u001b[1;32m      3\u001b[0m \u001b[39m# import factorial_module\u001b[39;00m\n\u001b[0;32m   (...)\u001b[0m\n\u001b[1;32m      9\u001b[0m \n\u001b[1;32m     10\u001b[0m \u001b[39m# Factorial module\u001b[39;00m\n\u001b[1;32m     11\u001b[0m num \u001b[39m=\u001b[39m \u001b[39mint\u001b[39m(\u001b[39minput\u001b[39m(\u001b[39m\"\u001b[39m\u001b[39mEnter a number to calculate its factorial: \u001b[39m\u001b[39m\"\u001b[39m))\n\u001b[0;32m---> 12\u001b[0m result \u001b[39m=\u001b[39m factorial_module\u001b[39m.\u001b[39mfactorial(num)\n\u001b[1;32m     13\u001b[0m \u001b[39mprint\u001b[39m(\u001b[39mf\u001b[39m\u001b[39m\"\u001b[39m\u001b[39mThe factorial of \u001b[39m\u001b[39m{\u001b[39;00mnum\u001b[39m}\u001b[39;00m\u001b[39m is \u001b[39m\u001b[39m{\u001b[39;00mresult\u001b[39m}\u001b[39;00m\u001b[39m\"\u001b[39m)\n\u001b[1;32m     15\u001b[0m \u001b[39m# Grocery module\u001b[39;00m\n",
      "\u001b[0;31mNameError\u001b[0m: name 'factorial_module' is not defined"
     ]
    }
   ],
   "source": [
    "# This is main.py:\n",
    "\n",
    "# from grocery_module import grocery_list, add_item, remove_item\n",
    "# from temperature_module import celsius_to_fahrenheit\n",
    "# from palindrome_module import is_palindrome\n",
    "# from password_generator_module import generate_password\n",
    "# from prime_module import is_prime\n",
    "# from factorial_module import factorial\n",
    "\n",
    "# let's test our functions\n",
    "print(\"grocery_list: \", grocery_list)\n",
    "add_item(\"apples\")\n",
    "print(\"grocery_list: \", grocery_list)\n",
    "remove_item(\"milk\")\n",
    "print(\"grocery_list: \", grocery_list)\n",
    "\n",
    "\n",
    "print\n",
    "print(celsius_to_fahrenheit(100))\n",
    "\n",
    "print(is_palindrome(\"Madam\"))\n",
    "\n"
   ]
  }
 ],
 "metadata": {
  "kernelspec": {
   "display_name": "testpy",
   "language": "python",
   "name": "python3"
  },
  "language_info": {
   "codemirror_mode": {
    "name": "ipython",
    "version": 3
   },
   "file_extension": ".py",
   "mimetype": "text/x-python",
   "name": "python",
   "nbconvert_exporter": "python",
   "pygments_lexer": "ipython3",
   "version": "3.10.8"
  },
  "orig_nbformat": 4
 },
 "nbformat": 4,
 "nbformat_minor": 2
}
