{
 "cells": [
  {
   "attachments": {},
   "cell_type": "markdown",
   "metadata": {},
   "source": [
    "1. Write a module that contains a function to calculate the factorial of a number given by the user. Then, write a script that imports this module and uses the function to calculate the factorial of a number."
   ]
  },
  {
   "cell_type": "code",
   "execution_count": 10,
   "metadata": {},
   "outputs": [
    {
     "name": "stdout",
     "output_type": "stream",
     "text": [
      "120\n"
     ]
    }
   ],
   "source": [
    "# factorial_module.py\n",
    "def factorial(n):\n",
    "    \"\"\"\n",
    "    This function calculates the factorial of a given number\n",
    "    using a non-recursive method.\n",
    "    \"\"\"\n",
    "    result = 1\n",
    "    for i in range(1, n+1):\n",
    "        result *= i\n",
    "    return result \n",
    "# main.py \n",
    "# from factorial_module import factorial\n",
    "print(factorial(5))"
   ]
  },
  {
   "attachments": {},
   "cell_type": "markdown",
   "metadata": {},
   "source": [
    "2. Write a module that contains a list of groceries and a function to add or remove an item from the list. Then, write a script that imports this module and uses the function to add or remove an item from the list."
   ]
  },
  {
   "cell_type": "code",
   "execution_count": 11,
   "metadata": {},
   "outputs": [],
   "source": [
    "# grocery_list.py:\n",
    "grocery_list = [\"milk\", \"bread\", \"eggs\"]\n",
    "\n",
    "def add_item(item):\n",
    "    \"\"\"\n",
    "    This function adds an item to the grocery list.\n",
    "    \"\"\"\n",
    "    grocery_list.append(item)\n",
    "\n",
    "def remove_item(item):\n",
    "    \"\"\"\n",
    "    This function removes an item from the grocery list.\n",
    "    \"\"\"\n",
    "    if item not in grocery_list:\n",
    "        print(f\"{item} is not in the list.\")\n",
    "    else:\n",
    "        grocery_list.remove(item)"
   ]
  },
  {
   "attachments": {},
   "cell_type": "markdown",
   "metadata": {},
   "source": [
    "3. Write a module that contains a function to check if a number is prime or not. Then, write a script that imports this module and uses the function to check if a given number is prime or not."
   ]
  },
  {
   "cell_type": "code",
   "execution_count": 12,
   "metadata": {},
   "outputs": [],
   "source": [
    "def is_prime(n):\n",
    "    \"\"\"\n",
    "    This function checks if a given number is prime or not.\n",
    "    \"\"\"\n",
    "    if n < 2:\n",
    "        return False\n",
    "    else:\n",
    "        for i in range(2, int(n**0.5)+1):\n",
    "            if n % i == 0:\n",
    "                return False\n",
    "        return True"
   ]
  },
  {
   "attachments": {},
   "cell_type": "markdown",
   "metadata": {},
   "source": [
    "4. Write a module that contains a function to convert a temperature from Celsius to Fahrenheit. Then, write a script that imports this module and uses the function to convert a temperature given in Celsius to Fahrenheit."
   ]
  },
  {
   "cell_type": "code",
   "execution_count": 13,
   "metadata": {},
   "outputs": [],
   "source": [
    "# tem\n",
    "def celsius_to_fahrenheit(celsius):\n",
    "    \"\"\"\n",
    "    This function converts a temperature from Celsius to Fahrenheit.\n",
    "    \"\"\"\n",
    "    fahrenheit = (celsius * 1.8) + 32\n",
    "    return fahrenheit"
   ]
  },
  {
   "attachments": {},
   "cell_type": "markdown",
   "metadata": {},
   "source": [
    "⭐5. Write a module that contains a function that checks if a given string is a palindrome. Then, write a script that imports this module and uses the function to check if a given string is a palindrome."
   ]
  },
  {
   "cell_type": "code",
   "execution_count": 14,
   "metadata": {},
   "outputs": [],
   "source": [
    "# prime_module.py\n",
    "def is_palindrome(s):\n",
    "    \"\"\"\n",
    "    This function checks if a given string is a palindrome.\n",
    "    \"\"\"\n",
    "    s = s.lower()\n",
    "    s = s.replace(\" \", \"\") # remove spaces\n",
    "    return s == s[::-1]"
   ]
  },
  {
   "attachments": {},
   "cell_type": "markdown",
   "metadata": {},
   "source": [
    "⭐6. Write a module that contains a function that generates a random password consisting of alphanumeric characters of a given length. Then, write a script that imports this module and uses the function to generate a random password of a given length."
   ]
  },
  {
   "cell_type": "code",
   "execution_count": 15,
   "metadata": {},
   "outputs": [],
   "source": [
    "import random\n",
    "import string\n",
    "def generate_password(length):\n",
    "    \"\"\"\n",
    "    This function generates a random password consisting of alphanumeric characters.\n",
    "    \"\"\"\n",
    "    characters = string.ascii_letters + string.digits\n",
    "    password = ''.join(random.choice(characters) for i in range(length))\n",
    "    return password"
   ]
  },
  {
   "cell_type": "code",
   "execution_count": 18,
   "metadata": {},
   "outputs": [
    {
     "name": "stdout",
     "output_type": "stream",
     "text": [
      "grocery_list:  ['bread', 'eggs', 'apples', 'apples']\n",
      "grocery_list:  ['bread', 'eggs', 'apples', 'apples', 'apples']\n"
     ]
    },
    {
     "ename": "ValueError",
     "evalue": "Item not in list.",
     "output_type": "error",
     "traceback": [
      "\u001b[0;31m---------------------------------------------------------------------------\u001b[0m",
      "\u001b[0;31mValueError\u001b[0m                                Traceback (most recent call last)",
      "Cell \u001b[0;32mIn[18], line 17\u001b[0m\n\u001b[1;32m     15\u001b[0m add_item(\u001b[39m\"\u001b[39m\u001b[39mapples\u001b[39m\u001b[39m\"\u001b[39m)\n\u001b[1;32m     16\u001b[0m \u001b[39mprint\u001b[39m(\u001b[39m\"\u001b[39m\u001b[39mgrocery_list: \u001b[39m\u001b[39m\"\u001b[39m, grocery_list)\n\u001b[0;32m---> 17\u001b[0m remove_item(\u001b[39m\"\u001b[39;49m\u001b[39mmilk\u001b[39;49m\u001b[39m\"\u001b[39;49m)\n\u001b[1;32m     20\u001b[0m \u001b[39mprint\u001b[39m(\u001b[39m\"\u001b[39m\u001b[39mgrocery_list: \u001b[39m\u001b[39m\"\u001b[39m, grocery_list)\n\u001b[1;32m     22\u001b[0m \u001b[39m# prime functions:\u001b[39;00m\n",
      "Cell \u001b[0;32mIn[11], line 15\u001b[0m, in \u001b[0;36mremove_item\u001b[0;34m(item)\u001b[0m\n\u001b[1;32m     11\u001b[0m \u001b[39m\u001b[39m\u001b[39m\"\"\"\u001b[39;00m\n\u001b[1;32m     12\u001b[0m \u001b[39mThis function removes an item from the grocery list.\u001b[39;00m\n\u001b[1;32m     13\u001b[0m \u001b[39m\"\"\"\u001b[39;00m\n\u001b[1;32m     14\u001b[0m \u001b[39mif\u001b[39;00m item \u001b[39mnot\u001b[39;00m \u001b[39min\u001b[39;00m grocery_list:\n\u001b[0;32m---> 15\u001b[0m     \u001b[39mraise\u001b[39;00m \u001b[39mValueError\u001b[39;00m(\u001b[39m\"\u001b[39m\u001b[39mItem not in list.\u001b[39m\u001b[39m\"\u001b[39m)\n\u001b[1;32m     16\u001b[0m grocery_list\u001b[39m.\u001b[39mremove(item)\n",
      "\u001b[0;31mValueError\u001b[0m: Item not in list."
     ]
    }
   ],
   "source": [
    "# This is main.py:\n",
    "\n",
    "# from grocery_module import grocery_list, add_item, remove_item\n",
    "# from temperature_module import celsius_to_fahrenheit\n",
    "# from palindrome_module import is_palindrome\n",
    "# from password_generator_module import generate_password\n",
    "# from prime_module import is_prime\n",
    "# from factorial_module import factorial\n",
    "\n",
    "# let's test our functions\n",
    "\n",
    "# grocery functions:\n",
    "# grocery_list = [\"milk\", \"bread\", \"eggs\"]\n",
    "print(\"grocery_list: \", grocery_list)\n",
    "add_item(\"apples\")\n",
    "print(\"grocery_list: \", grocery_list)\n",
    "remove_item(\"milk\")\n",
    "\n",
    "\n",
    "print(\"grocery_list: \", grocery_list)\n",
    "\n",
    "# prime functions:\n",
    "print(\"is 5 prime? \", is_prime(5))\n",
    "\n",
    "# factorial functions:\n",
    "print(\"factorial of 5: \", factorial(5))\n",
    "\n",
    "# temperature functions:\n",
    "print(\"celsius 0 in fahrenheit: \", celsius_to_fahrenheit(0))\n",
    "\n",
    "# palindrome functions:\n",
    "print(\"is Racecar a palindrome? \", is_palindrome(\"Racecar\"))\n",
    "\n",
    "# generate a password of length 10 with all numbers and letters\n",
    "print(\"password: \", generate_password(10))"
   ]
  }
 ],
 "metadata": {
  "kernelspec": {
   "display_name": "testpy",
   "language": "python",
   "name": "python3"
  },
  "language_info": {
   "codemirror_mode": {
    "name": "ipython",
    "version": 3
   },
   "file_extension": ".py",
   "mimetype": "text/x-python",
   "name": "python",
   "nbconvert_exporter": "python",
   "pygments_lexer": "ipython3",
   "version": "3.10.8"
  },
  "orig_nbformat": 4
 },
 "nbformat": 4,
 "nbformat_minor": 2
}
