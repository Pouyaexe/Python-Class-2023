{
 "cells": [
  {
   "cell_type": "code",
   "execution_count": 1,
   "metadata": {},
   "outputs": [],
   "source": [
    "x = input(\"Input a number: \")"
   ]
  },
  {
   "cell_type": "code",
   "execution_count": 5,
   "metadata": {},
   "outputs": [
    {
     "name": "stdout",
     "output_type": "stream",
     "text": [
      "23\n"
     ]
    }
   ],
   "source": [
    "BirthYear = input(\"Enter your birth year: \")\n",
    "Age = 2023 - int(BirthYear)\n",
    "print(Age)"
   ]
  },
  {
   "cell_type": "code",
   "execution_count": 9,
   "metadata": {},
   "outputs": [
    {
     "name": "stdout",
     "output_type": "stream",
     "text": [
      "Help on method raw_input in module ipykernel.kernelbase:\n",
      "\n",
      "raw_input(prompt='') method of ipykernel.ipkernel.IPythonKernel instance\n",
      "    Forward raw_input to frontends\n",
      "    \n",
      "    Raises\n",
      "    ------\n",
      "    StdinNotImplementedError if active frontend doesn't support stdin.\n",
      "\n"
     ]
    }
   ],
   "source": [
    "help(input)"
   ]
  },
  {
   "cell_type": "code",
   "execution_count": 31,
   "metadata": {},
   "outputs": [
    {
     "name": "stdout",
     "output_type": "stream",
     "text": [
      "23\n"
     ]
    }
   ],
   "source": [
    "def age(birthyear):\n",
    "    U_age = 2023 - int(birthyear)\n",
    "    return U_age\n",
    "\n",
    "Birth_Year = input(\"Enter your birth year: \")\n",
    "\n",
    "Age = age(Birth_Year)\n",
    "print(Age)"
   ]
  },
  {
   "cell_type": "code",
   "execution_count": 19,
   "metadata": {},
   "outputs": [
    {
     "name": "stdout",
     "output_type": "stream",
     "text": [
      "4.0\n"
     ]
    }
   ],
   "source": [
    "def avg_nmbs(a,b,c):\n",
    "\n",
    "    sum_of_nmbs = a + b + c\n",
    "    temp_avg = sum_of_nmbs / 3 \n",
    "    \n",
    "    return temp_avg\n",
    "\n",
    "print(avg_nmbs(2,4,6))"
   ]
  },
  {
   "cell_type": "code",
   "execution_count": 23,
   "metadata": {},
   "outputs": [
    {
     "name": "stdout",
     "output_type": "stream",
     "text": [
      "5\n"
     ]
    }
   ],
   "source": [
    "def avg_nmbs(a,b,c):\n",
    "\n",
    "    sum_of_nmbs = a + b + c\n",
    "    temp_avg = sum_of_nmbs / 3 \n",
    "    \n",
    "    # return Void\n",
    "    \n",
    "\n",
    "print(avg_nmbs(4,10,9))"
   ]
  },
  {
   "cell_type": "code",
   "execution_count": 26,
   "metadata": {},
   "outputs": [
    {
     "name": "stdout",
     "output_type": "stream",
     "text": [
      "Hello World!\n",
      "My name is Karim\n",
      "Hello Pouy\n"
     ]
    }
   ],
   "source": [
    "def welcome():\n",
    "    print(\"Hello World!\")\n",
    "    print(\"My name is Karim\")\n",
    "    user_name = input(\"What is your name?\")\n",
    "    print(f\"Hello {user_name}\")\n",
    "\n",
    "welcome()"
   ]
  },
  {
   "cell_type": "code",
   "execution_count": 27,
   "metadata": {},
   "outputs": [
    {
     "name": "stdout",
     "output_type": "stream",
     "text": [
      "Hello World!\n",
      "My name is Karim\n",
      "Hello Dorsa\n"
     ]
    }
   ],
   "source": [
    "welcome()"
   ]
  },
  {
   "cell_type": "code",
   "execution_count": 37,
   "metadata": {},
   "outputs": [],
   "source": [
    "def cal_age():\n",
    "    birthyear = input(\"What is your birthyear?\")\n",
    "    U_age = 2023 - int(birthyear)\n",
    "    return U_age"
   ]
  },
  {
   "cell_type": "code",
   "execution_count": 40,
   "metadata": {},
   "outputs": [
    {
     "name": "stdout",
     "output_type": "stream",
     "text": [
      "Hello Dorsa\n",
      "My name is Karim\n",
      "So you are 73 y/o\n"
     ]
    }
   ],
   "source": [
    "def welcome():\n",
    "    user_name = input(\"What is your name?\")\n",
    "    print(\"Hello \" + user_name)\n",
    "    print(\"My name is Karim\")\n",
    "    print(f\"So you are {cal_age()} y/o\")\n",
    "    \n",
    "welcome()\n",
    "    "
   ]
  },
  {
   "cell_type": "code",
   "execution_count": 41,
   "metadata": {},
   "outputs": [],
   "source": [
    "def welcome():\n",
    "    \"\"\"Welcome's the user and ask their name and age\n",
    "    \"\"\"\n",
    "    user_name = input(\"What is your name?\") # Input the name\n",
    "    print(\"Hello \" + user_name)\n",
    "    print(\"My name is Karim\")\n",
    "    print(f\"So you are {cal_age()} y/o\")"
   ]
  },
  {
   "cell_type": "code",
   "execution_count": 43,
   "metadata": {},
   "outputs": [
    {
     "name": "stdout",
     "output_type": "stream",
     "text": [
      "Help on function welcome in module __main__:\n",
      "\n",
      "welcome()\n",
      "    Welcome's the user and ask their name and age\n",
      "\n"
     ]
    }
   ],
   "source": [
    "help(welcome)"
   ]
  },
  {
   "cell_type": "code",
   "execution_count": 44,
   "metadata": {},
   "outputs": [
    {
     "name": "stdout",
     "output_type": "stream",
     "text": [
      "red\n",
      "green\n",
      "3\n"
     ]
    }
   ],
   "source": [
    "colors = ['red', 'blue', 'green']\n",
    "\n",
    "print(colors[0])    ## red\n",
    "print(colors[2])    ## green\n",
    "print(len(colors))  ## 3"
   ]
  },
  {
   "cell_type": "code",
   "execution_count": 50,
   "metadata": {},
   "outputs": [
    {
     "name": "stdout",
     "output_type": "stream",
     "text": [
      "temp_sum:  0 num:  1\n",
      "1\n",
      "temp_sum:  1 num:  4\n",
      "5\n",
      "temp_sum:  5 num:  9\n",
      "14\n",
      "temp_sum:  14 num:  16\n",
      "30\n",
      "30\n"
     ]
    }
   ],
   "source": [
    "squares = [1 , 4 , 9 , 16]\n",
    "#num                    ^\n",
    "\n",
    "temp_sum = 0\n",
    "    \n",
    "for num in squares:\n",
    "    print( \"temp_sum: \",temp_sum, \"num: \", num)\n",
    "    temp_sum = temp_sum + num\n",
    "    print(temp_sum)\n",
    "#         \n",
    "    \n",
    "print(temp_sum)"
   ]
  },
  {
   "cell_type": "code",
   "execution_count": 52,
   "metadata": {},
   "outputs": [
    {
     "name": "stdout",
     "output_type": "stream",
     "text": [
      "30\n"
     ]
    }
   ],
   "source": [
    "sum_of_elements = squares[0] + squares[1] + squares[2] + squares[3]\n",
    "\n",
    "sum_of_numbers = a + b + c + d\n",
    "print(sum_of_elements)"
   ]
  },
  {
   "cell_type": "code",
   "execution_count": 57,
   "metadata": {},
   "outputs": [
    {
     "name": "stdout",
     "output_type": "stream",
     "text": [
      "['red', 'blue', 'green']\n",
      "green\n",
      "['red', 'blue', 'orange']\n"
     ]
    }
   ],
   "source": [
    "c = \"green\"\n",
    "c = \"orange\"\n",
    "\n",
    "colors = ['red', 'blue', 'green']\n",
    "#            a      b        c\n",
    "#          [0]     [1]      [2]\n",
    "\n",
    "print(colors)\n",
    "print(colors[2])\n",
    "\n",
    "colors[2] = \"orange\"\n",
    "\n",
    "print(colors)\n"
   ]
  },
  {
   "cell_type": "code",
   "execution_count": 76,
   "metadata": {},
   "outputs": [
    {
     "name": "stdout",
     "output_type": "stream",
     "text": [
      "Ali Dorsa Sheida Pouya\n"
     ]
    }
   ],
   "source": [
    "name_1 = \"Ali\"\n",
    "name_2 = \"Dorsa\"\n",
    "name_3 = \"Sheida\"\n",
    "# --- Adding new name ----\n",
    "name_4 = \"Pouya\"\n",
    "\n",
    "def print_names(n_1,n_2,n_3, n_4):\n",
    "    print(n_1,n_2,n_3, n_4)\n",
    "    \n",
    "print_names(name_1,name_2,name_3, name_4)"
   ]
  },
  {
   "cell_type": "code",
   "execution_count": 74,
   "metadata": {},
   "outputs": [
    {
     "name": "stdout",
     "output_type": "stream",
     "text": [
      "['Ali', 'Dorsa', 'Sheida', 'Pouya']\n",
      "Ali\n",
      "Dorsa\n",
      "Sheida\n",
      "Pouya\n"
     ]
    }
   ],
   "source": [
    "names = [\"Ali\", \"Dorsa\", \"Sheida\", \"Pouya\"]\n",
    "#         ^\n",
    "\n",
    "print(names)\n",
    "def print_name_list(ns):  \n",
    "    for name in ns:\n",
    "        print(name)\n",
    "\n",
    "\n",
    "print_name_list(names)"
   ]
  },
  {
   "cell_type": "code",
   "execution_count": 75,
   "metadata": {},
   "outputs": [
    {
     "name": "stdout",
     "output_type": "stream",
     "text": [
      "['Ali', 'Dorsa', 'Sheida', 'Pouya']\n",
      "['Ali', 'Dorsa', 'Sheida', 'Pouya']\n",
      "Pouya\n",
      "Sheida\n",
      "Dorsa\n",
      "Ali\n"
     ]
    }
   ],
   "source": [
    "names = [\"Ali\", \"Dorsa\", \"Sheida\", \"Pouya\"]\n",
    "#         ^\n",
    "\n",
    "print(names)\n",
    "\n",
    "def print_name_list(ns): \n",
    "    ns = ns[::-1]   \n",
    "    for name in ns:\n",
    "        print(name)\n",
    "        \n",
    "print(names)\n",
    "\n",
    "\n",
    "print_name_list(names)"
   ]
  }
 ],
 "metadata": {
  "kernelspec": {
   "display_name": "testpy",
   "language": "python",
   "name": "python3"
  },
  "language_info": {
   "codemirror_mode": {
    "name": "ipython",
    "version": 3
   },
   "file_extension": ".py",
   "mimetype": "text/x-python",
   "name": "python",
   "nbconvert_exporter": "python",
   "pygments_lexer": "ipython3",
   "version": "3.10.8"
  },
  "orig_nbformat": 4
 },
 "nbformat": 4,
 "nbformat_minor": 2
}
