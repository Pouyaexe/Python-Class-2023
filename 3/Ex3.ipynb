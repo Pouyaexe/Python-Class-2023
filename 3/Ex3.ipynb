{
 "cells": [
  {
   "attachments": {},
   "cell_type": "markdown",
   "metadata": {},
   "source": [
    "Write a Python function that takes a list of numbers as input and returns the sum of all the even numbers in the list.  \n",
    "Example:\n",
    "Input: [1, 2, 3, 4, 5, 6, 7, 8]  \n",
    "Output: 20"
   ]
  },
  {
   "attachments": {},
   "cell_type": "markdown",
   "metadata": {},
   "source": [
    "[| [ ] [ ] [ ] [ ] [ ] |] [ 0 ] [ ] [ ] [ ] [ ] \n",
    "    list_1                 sum     "
   ]
  },
  {
   "cell_type": "code",
   "execution_count": 4,
   "metadata": {},
   "outputs": [
    {
     "name": "stdout",
     "output_type": "stream",
     "text": [
      "20\n",
      "20\n"
     ]
    }
   ],
   "source": [
    "# Write a Python function that takes a list of numbers as input and returns the sum of all the even numbers in the list.  \n",
    "def sum_of_elements(list_1):\n",
    "    sum=0\n",
    "    for i in list_1:\n",
    "        if i%2==0:\n",
    "            # sum += i\n",
    "            sum=sum+i\n",
    "    return sum\n",
    "\n",
    "input_list = [1,2,3,4,5,6,7,8,9]\n",
    "\n",
    "print(sum_of_elements(input_list))\n",
    "\n",
    "# print(sum_of_elements([1,2,3,4,5,6,7,8,9]))"
   ]
  },
  {
   "attachments": {},
   "cell_type": "markdown",
   "metadata": {},
   "source": [
    "Write a Python function that takes two lists as input and returns a new list that contains only the common elements between the two input lists.  Example:  \n",
    "Input: [1, 2, 3, 4, 5], [3, 4, 5, 6, 7]    \n",
    "Output: [3, 4, 5]  "
   ]
  },
  {
   "cell_type": "code",
   "execution_count": 11,
   "metadata": {},
   "outputs": [
    {
     "name": "stdout",
     "output_type": "stream",
     "text": [
      "[4, 5, 7]\n"
     ]
    }
   ],
   "source": [
    "# Write a Python function that takes two lists as input and returns a new list that contains only the common elements between the two input lists.\n",
    "def common_num(list_1, list_2):\n",
    "    common=[]    \n",
    "    for i in list_1:\n",
    "        if i in list_2:\n",
    "            common.append(i)\n",
    "    return common\n",
    "\n",
    "\n",
    "print(common_num([1,2,3,4,5,6,8,7,9], [11,7,4,7,5,23]))"
   ]
  },
  {
   "attachments": {},
   "cell_type": "markdown",
   "metadata": {},
   "source": [
    "Write a Python function that takes a list of strings as input and returns a new list that contains only the strings with more than 5 characters.   \n",
    "Example:  \n",
    "Input: [\"apple\", \"banana\", \"cherry\", \"durian\", \"elderberry\"]\n",
    "Output: [\"banana\", \"cherry\", \"elderberry\"]"
   ]
  },
  {
   "cell_type": "code",
   "execution_count": null,
   "metadata": {},
   "outputs": [],
   "source": []
  },
  {
   "attachments": {},
   "cell_type": "markdown",
   "metadata": {},
   "source": [
    "Write a Python function that takes a list of integers as input and returns the product of all the numbers in the list.  \n",
    "Example:\n",
    "Input: [2, 3, 4, 5]\n",
    "Output: 120"
   ]
  },
  {
   "cell_type": "code",
   "execution_count": null,
   "metadata": {},
   "outputs": [],
   "source": [
    "# Write a Python function that takes a list of integers as input and returns the product of all the numbers in the list.  \n",
    "def product_of_elements(list_1):\n",
    "    product=1\n",
    "    for i in list_1:\n",
    "        product *= i\n",
    "    return product"
   ]
  },
  {
   "attachments": {},
   "cell_type": "markdown",
   "metadata": {},
   "source": [
    "Write a Python function that takes a list of strings as input and returns a new list that contains the same strings in uppercase.  \n",
    "Example:  \n",
    "Input: [\"hello\", \"world\", \"python\"]  \n",
    "Output: [\"HELLO\", \"WORLD\", \"PYTHON\"]"
   ]
  },
  {
   "cell_type": "code",
   "execution_count": null,
   "metadata": {},
   "outputs": [],
   "source": [
    "# Write a Python function that takes a list of strings as input and returns a new list that contains the same strings in uppercase.  \n",
    "def upper_case(list_1):\n",
    "    upper=[]\n",
    "    for i in list_1:\n",
    "        upper.append(i.upper())\n",
    "    return upper"
   ]
  },
  {
   "attachments": {},
   "cell_type": "markdown",
   "metadata": {},
   "source": [
    "# ****\n",
    "Write a Python function that takes a list of integers as input and returns a new list that contains only the numbers that are divisible by 3.  \n",
    "Example:\n",
    "Input: [2, 3, 4, 5, 6, 7, 8, 9]\n",
    "Output: [3, 6, 9]"
   ]
  },
  {
   "cell_type": "code",
   "execution_count": null,
   "metadata": {},
   "outputs": [],
   "source": [
    "# Write a Python function that takes a list of integers as input and returns a new list that contains only the numbers that are divisible by 3.  \n",
    "def divisible_by_3(list_1):\n",
    "    divisible=[]\n",
    "    for i in list_1:\n",
    "        if i%3==0:\n",
    "            divisible.append(i)\n",
    "    return divisible"
   ]
  }
 ],
 "metadata": {
  "kernelspec": {
   "display_name": "testpy",
   "language": "python",
   "name": "python3"
  },
  "language_info": {
   "codemirror_mode": {
    "name": "ipython",
    "version": 3
   },
   "file_extension": ".py",
   "mimetype": "text/x-python",
   "name": "python",
   "nbconvert_exporter": "python",
   "pygments_lexer": "ipython3",
   "version": "3.10.8"
  },
  "orig_nbformat": 4
 },
 "nbformat": 4,
 "nbformat_minor": 2
}
