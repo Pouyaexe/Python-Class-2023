{
 "cells": [
  {
   "attachments": {},
   "cell_type": "markdown",
   "metadata": {},
   "source": [
    "Write a Python function that takes a list of numbers as input and returns the sum of all the even numbers in the list.  \n",
    "Example:\n",
    "Input: [1, 2, 3, 4, 5, 6, 7, 8]  \n",
    "Output: 20"
   ]
  },
  {
   "cell_type": "code",
   "execution_count": null,
   "metadata": {},
   "outputs": [],
   "source": []
  },
  {
   "attachments": {},
   "cell_type": "markdown",
   "metadata": {},
   "source": [
    "Write a Python function that takes two lists as input and returns a new list that contains only the common elements between the two input lists.  Example:  \n",
    "HINT: search about the append() function for a list   \n"
    "Input: [1, 2, 3, 4, 5], [3, 4, 5, 6, 7]    \n",
    "Output: [3, 4, 5]  "
   ]
  },
  {
   "cell_type": "code",
   "execution_count": null,
   "metadata": {},
   "outputs": [],
   "source": []
  },
  {
   "attachments": {},
   "cell_type": "markdown",
   "metadata": {},
   "source": [
    "Write a Python function that takes a list of strings as input and returns a new list that contains only the strings with more than 5 characters.   \n",
    "Example:  \n",
    "Input: [\"apple\", \"banana\", \"cherry\", \"durian\", \"elderberry\"]\n",
    "Output: [\"banana\", \"cherry\", \"elderberry\"]"
   ]
  },
  {
   "cell_type": "code",
   "execution_count": null,
   "metadata": {},
   "outputs": [],
   "source": []
  },
  {
   "attachments": {},
   "cell_type": "markdown",
   "metadata": {},
   "source": [
    "Write a Python function that takes a list of integers as input and returns the product of all the numbers in the list.  \n",
    "Example:\n",
    "Input: [2, 3, 4, 5]\n",
    "Output: 120"
   ]
  },
  {
   "cell_type": "code",
   "execution_count": null,
   "metadata": {},
   "outputs": [],
   "source": []
  },
  {
   "attachments": {},
   "cell_type": "markdown",
   "metadata": {},
   "source": [
    "Write a Python function that takes a list of strings as input and returns a new list that contains the same strings in uppercase.  \n",
    "Example:  \n",
    "Input: [\"hello\", \"world\", \"python\"]  \n",
    "Output: [\"HELLO\", \"WORLD\", \"PYTHON\"]"
   ]
  },
  {
   "cell_type": "code",
   "execution_count": null,
   "metadata": {},
   "outputs": [],
   "source": []
  },
  {
   "attachments": {},
   "cell_type": "markdown",
   "metadata": {},
   "source": [
    "# ****\n",
    "Write a Python function that takes a list of integers as input and returns a new list that contains only the numbers that are divisible by 3.  \n",
    "Example:\n",
    "Input: [2, 3, 4, 5, 6, 7, 8, 9]\n",
    "Output: [3, 6, 9]"
   ]
  },
  {
   "cell_type": "code",
   "execution_count": null,
   "metadata": {},
   "outputs": [],
   "source": []
  }
 ],
 "metadata": {
  "language_info": {
   "name": "python"
  },
  "orig_nbformat": 4
 },
 "nbformat": 4,
 "nbformat_minor": 2
}
