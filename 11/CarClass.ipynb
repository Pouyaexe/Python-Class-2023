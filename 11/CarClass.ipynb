{
 "cells": [
  {
   "attachments": {},
   "cell_type": "markdown",
   "metadata": {},
   "source": [
    "##Car Class\n",
    "\n",
    "#Create a Python class called Car with the following attributes and methods:\n",
    "\n",
    "**Attributes**:\n",
    "\n",
    "*make*: a string representing the make of the car (e.g. \"Toyota\", \"Ford\")\n",
    "*mode*l: a string representing the model of the car (e.g. \"Camry\", \"Fiesta\")\n",
    "*year*: an integer representing the year of the car (e.g. 2010, 2022)\n",
    "*speed*: an integer representing the current speed of the car in miles per hour (mph)\n",
    "*speed_data*: a list containing the speed data of the car as it changes over time (initially empty)\n",
    "**Methods**:\n",
    "\n",
    "*accelerate(delta)*: increase the speed of the car by delta mph and add the new speed to the speed data list\n",
    "*brake(delta)*: decrease the speed of the car by delta mph and add the new speed to the speed data list\n",
    "*display_speed_data()*: display the speed data list in a formatted way\n",
    "*display_details(*): display the details of the car (make, model, year, and current speed) in a formatted way\n",
    "```\n",
    "car = Car(\"Toyota\", \"Camry\", 2020, 0)\n",
    "car.accelerate(20)\n",
    "car.accelerate(10)\n",
    "car.brake(5)\n",
    "car.accelerate(15)\n",
    "car.display_speed_data()\n",
    "car.display_details()\n",
    "\n",
    "Speed data for Toyota Camry 2020:\n",
    "- 0 mph\n",
    "- 20 mph\n",
    "- 30 mph\n",
    "- 25 mph\n",
    "- 40 mph\n",
    "Details of Toyota Camry 2020:\n",
    "- Make: Toyota\n",
    "- Model: Camry\n",
    "- Year: 2020\n",
    "- Current speed: 40 mph\n",
    "```"
   ]
  },
  {
   "cell_type": "code",
   "execution_count": null,
   "metadata": {
    "vscode": {
     "languageId": "plaintext"
    }
   },
   "outputs": [],
   "source": []
  }
 ],
 "metadata": {
  "language_info": {
   "name": "python"
  },
  "orig_nbformat": 4
 },
 "nbformat": 4,
 "nbformat_minor": 2
}
