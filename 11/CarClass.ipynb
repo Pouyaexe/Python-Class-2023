{
 "cells": [
  {
   "attachments": {},
   "cell_type": "markdown",
   "metadata": {},
   "source": [
    "## Car Class\n",
    "\n",
    "# Create a Python class called Car with the following attributes and methods:\n",
    "\n",
    "**Attributes**:\n",
    "\n",
    "*make*: a string representing the make of the car (e.g. \"Toyota\", \"Ford\")  \n",
    "*mode*l: a string representing the model of the car (e.g. \"Camry\", \"Fiesta\")  \n",
    "*year*: an integer representing the year of the car (e.g. 2010, 2022)  \n",
    "*speed*: an integer representing the current speed of the car in miles per hour (mph)  \n",
    "*speed_data*: a list containing the speed data of the car as it changes over time (initially empty)  \n",
    "\n",
    "**Methods**:\n",
    "\n",
    "*accelerate(delta)*: increase the speed of the car by delta mph and add the new speed to the speed data list  \n",
    "*brake(delta)*: decrease the speed of the car by delta mph and add the new speed to the speed data list  \n",
    "*display_speed_data()*: display the speed data list in a formatted way  \n",
    "*display_details(*): display the details of the car (make, model, year, and current speed) in a formatted way  \n",
    "```\n",
    "car = Car(\"Toyota\", \"Camry\", 2020, 0)\n",
    "car.accelerate(20)\n",
    "car.accelerate(10)\n",
    "car.brake(5)\n",
    "car.accelerate(15)\n",
    "car.display_speed_data()\n",
    "car.display_details()\n",
    "\n",
    "Speed data for Toyota Camry 2020:\n",
    "- 0 mph\n",
    "- 20 mph\n",
    "- 30 mph\n",
    "- 25 mph\n",
    "- 40 mph\n",
    "Details of Toyota Camry 2020:\n",
    "- Make: Toyota\n",
    "- Model: Camry\n",
    "- Year: 2020\n",
    "- Current speed: 40 mph\n",
    "```"
   ]
  },
  {
   "cell_type": "code",
   "execution_count": 58,
   "metadata": {},
   "outputs": [],
   "source": [
    "class Car:\n",
    "    def __init__(self, make, model, year, speed=0):\n",
    "        self.make = make\n",
    "        self.model = model\n",
    "        self.year = year\n",
    "        self.speed = speed\n",
    "        self.speed_data = []\n",
    "\n",
    "    def accelerate(self, delta):\n",
    "        self.speed += delta\n",
    "        self.speed_data.append(self.speed)\n",
    "    \n",
    "    def brake(self,delta):\n",
    "        self.speed -= delta\n",
    "        if self.speed < 0: #-30\n",
    "            self.speed = 0\n",
    "        self.speed_data.append(self.speed)\n",
    "        \n",
    "    def display_speed_data(self):\n",
    "        print(f\"Speed data for {self.make} {self.model} {self.year}\")\n",
    "        for golden_ring in self.speed_data:\n",
    "            print(f\"- {golden_ring} mph\")\n",
    "    \n",
    "    def display_details(self):\n",
    "        print(f\"Details of {self.make} {self.model} {self.year}:\")\n",
    "        print(f\"- Make: {self.make}\")\n",
    "        print(f\"- Model: {self.model}\")\n",
    "        print(f\"- Year: {self.year}\")\n",
    "        print(f\"- Current speed: {self.speed} mph\")\n",
    "        \n",
    "    # def new_brake(self, delta):\n",
    "    #     if self.speed - delta < 0:\n",
    "    #         self.speed = 0\n",
    "    #     else:\n",
    "    #         self.speed -= delta\n",
    "    #     self.speed_data.append(self.speed)\n",
    "    "
   ]
  },
  {
   "cell_type": "code",
   "execution_count": 59,
   "metadata": {},
   "outputs": [],
   "source": [
    "car1 = Car(make=\"Toyota\", model=\"Corolla\", year=2015, speed=20)"
   ]
  },
  {
   "cell_type": "code",
   "execution_count": 93,
   "metadata": {},
   "outputs": [],
   "source": [
    "car1.accelerate(10)"
   ]
  },
  {
   "cell_type": "code",
   "execution_count": 91,
   "metadata": {},
   "outputs": [],
   "source": [
    "car1.brake(15)"
   ]
  },
  {
   "cell_type": "code",
   "execution_count": 115,
   "metadata": {},
   "outputs": [
    {
     "name": "stdout",
     "output_type": "stream",
     "text": [
      "Speed data for Toyota Corolla 2015\n",
      "- 25 mph\n",
      "- 30 mph\n",
      "- 30 mph\n",
      "- 35 mph\n",
      "- 35 mph\n",
      "- 40 mph\n",
      "- 40 mph\n",
      "- 45 mph\n",
      "- 45 mph\n",
      "- 45 mph\n",
      "- 50 mph\n",
      "- 50 mph\n",
      "- 55 mph\n",
      "- 55 mph\n",
      "- 55 mph\n",
      "- 65 mph\n",
      "- 65 mph\n",
      "- 70 mph\n",
      "- 75 mph\n",
      "- 75 mph\n",
      "- 75 mph\n",
      "- 85 mph\n",
      "- 85 mph\n",
      "- 85 mph\n",
      "- 90 mph\n",
      "- 95 mph\n",
      "- 95 mph\n",
      "- 105 mph\n"
     ]
    }
   ],
   "source": [
    "car1.display_speed_data()"
   ]
  },
  {
   "cell_type": "code",
   "execution_count": 95,
   "metadata": {},
   "outputs": [
    {
     "name": "stdout",
     "output_type": "stream",
     "text": [
      "Details of Toyota Corolla 2015:\n",
      "- Make: Toyota\n",
      " - Model: Corolla\n",
      "- Model: Corolla\n",
      "- Year: 2015\n",
      "- Current speed: 95 mph\n"
     ]
    }
   ],
   "source": [
    "car1.display_details()"
   ]
  },
  {
   "cell_type": "code",
   "execution_count": 99,
   "metadata": {},
   "outputs": [
    {
     "name": "stdout",
     "output_type": "stream",
     "text": [
      "105\n"
     ]
    }
   ],
   "source": [
    "# Finding the max speeed of the car\n",
    "max_speed = 0\n",
    "for speed in car1.speed_data:\n",
    "    if speed > max_speed:\n",
    "        max_speed = speed\n",
    "print(max_speed)"
   ]
  },
  {
   "cell_type": "code",
   "execution_count": 105,
   "metadata": {},
   "outputs": [
    {
     "name": "stdout",
     "output_type": "stream",
     "text": [
      "[25, 30, 30, 35, 35, 40, 40, 45, 45, 45, 50, 50, 55, 55, 55, 65, 65, 70, 75, 75, 75, 85, 85, 85, 90, 95, 95, 105]\n",
      "105\n",
      "[25, 30, 30, 35, 35, 40, 40, 45, 45, 45, 50, 50, 55, 55, 55, 65, 65, 70, 75, 75, 75, 85, 85, 85, 90, 95, 95, 105]\n"
     ]
    }
   ],
   "source": [
    "# sort the speed data list\n",
    "sorted_list = sorted(car1.speed_data)\n",
    "print(sorted_list)\n",
    "\n",
    "print(sorted_list[-1])\n",
    "\n",
    "print(car1.speed_data)"
   ]
  },
  {
   "cell_type": "code",
   "execution_count": 108,
   "metadata": {},
   "outputs": [
    {
     "name": "stdout",
     "output_type": "stream",
     "text": [
      "jafar 4\n"
     ]
    }
   ],
   "source": [
    "a = 4\n",
    "b = a\n",
    "a = \"jafar\"\n",
    "print(a,b)"
   ]
  },
  {
   "cell_type": "code",
   "execution_count": 114,
   "metadata": {},
   "outputs": [
    {
     "name": "stdout",
     "output_type": "stream",
     "text": [
      "[1, 2, 3]\n",
      "[1, 2]\n"
     ]
    }
   ],
   "source": [
    "list_1 = [1,2]\n",
    "list_2 = list_1.copy()\n",
    "list_1.append(3)\n",
    "print(list_1)\n",
    "print(list_2)"
   ]
  },
  {
   "cell_type": "code",
   "execution_count": null,
   "metadata": {},
   "outputs": [],
   "source": []
  }
 ],
 "metadata": {
  "kernelspec": {
   "display_name": "testpy",
   "language": "python",
   "name": "python3"
  },
  "language_info": {
   "codemirror_mode": {
    "name": "ipython",
    "version": 3
   },
   "file_extension": ".py",
   "mimetype": "text/x-python",
   "name": "python",
   "nbconvert_exporter": "python",
   "pygments_lexer": "ipython3",
   "version": "3.10.8"
  },
  "orig_nbformat": 4
 },
 "nbformat": 4,
 "nbformat_minor": 2
}
